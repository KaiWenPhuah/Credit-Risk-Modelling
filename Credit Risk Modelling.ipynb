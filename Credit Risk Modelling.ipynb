{
 "cells": [
  {
   "cell_type": "code",
   "execution_count": null,
   "id": "bfea9be8",
   "metadata": {},
   "outputs": [
    {
     "name": "stderr",
     "output_type": "stream",
     "text": [
      "c:\\Users\\Phuah Kai Wen\\AppData\\Local\\Programs\\Python\\Python311\\Lib\\site-packages\\tqdm\\auto.py:21: TqdmWarning: IProgress not found. Please update jupyter and ipywidgets. See https://ipywidgets.readthedocs.io/en/stable/user_install.html\n",
      "  from .autonotebook import tqdm as notebook_tqdm\n"
     ]
    }
   ],
   "source": [
    "import pandas as pd\n",
    "import numpy as np\n",
    "import matplotlib.pyplot as plt\n",
    "from sklearn.impute import SimpleImputer\n",
    "from sklearn.linear_model import LogisticRegression\n",
    "from sklearn.ensemble import GradientBoostingClassifier, RandomForestClassifier\n",
    "from lightgbm import LGBMClassifier\n",
    "from sklearn.feature_selection import SelectFromModel\n",
    "from sklearn.preprocessing import StandardScaler\n",
    "from sklearn.model_selection import train_test_split\n",
    "from sklearn.metrics import classification_report, confusion_matrix, accuracy_score, recall_score, roc_auc_score, fbeta_score, RocCurveDisplay\n",
    "import shap\n"
   ]
  },
  {
   "cell_type": "code",
   "execution_count": 2,
   "id": "b0c3d4c9",
   "metadata": {},
   "outputs": [],
   "source": [
    "import os\n",
    "os.chdir(\"C:/Users/Phuah Kai Wen/OneDrive/Documents/Coding/Python\")"
   ]
  },
  {
   "cell_type": "code",
   "execution_count": 3,
   "id": "07cd225d",
   "metadata": {},
   "outputs": [
    {
     "name": "stderr",
     "output_type": "stream",
     "text": [
      "C:\\Users\\Phuah Kai Wen\\AppData\\Local\\Temp\\ipykernel_19924\\3433887549.py:1: DtypeWarning: Columns (19,47,55,112,123,124,125,128,129,130,133,139,140,141) have mixed types. Specify dtype option on import or set low_memory=False.\n",
      "  data = pd.read_csv(\"Data/loan.csv\")\n"
     ]
    }
   ],
   "source": [
    "data = pd.read_csv(\"Data/loan.csv\")"
   ]
  },
  {
   "cell_type": "code",
   "execution_count": 4,
   "id": "f3f1f47e",
   "metadata": {},
   "outputs": [
    {
     "data": {
      "text/html": [
       "<div>\n",
       "<style scoped>\n",
       "    .dataframe tbody tr th:only-of-type {\n",
       "        vertical-align: middle;\n",
       "    }\n",
       "\n",
       "    .dataframe tbody tr th {\n",
       "        vertical-align: top;\n",
       "    }\n",
       "\n",
       "    .dataframe thead th {\n",
       "        text-align: right;\n",
       "    }\n",
       "</style>\n",
       "<table border=\"1\" class=\"dataframe\">\n",
       "  <thead>\n",
       "    <tr style=\"text-align: right;\">\n",
       "      <th></th>\n",
       "      <th>id</th>\n",
       "      <th>member_id</th>\n",
       "      <th>loan_amnt</th>\n",
       "      <th>funded_amnt</th>\n",
       "      <th>funded_amnt_inv</th>\n",
       "      <th>term</th>\n",
       "      <th>int_rate</th>\n",
       "      <th>installment</th>\n",
       "      <th>grade</th>\n",
       "      <th>sub_grade</th>\n",
       "      <th>...</th>\n",
       "      <th>hardship_payoff_balance_amount</th>\n",
       "      <th>hardship_last_payment_amount</th>\n",
       "      <th>disbursement_method</th>\n",
       "      <th>debt_settlement_flag</th>\n",
       "      <th>debt_settlement_flag_date</th>\n",
       "      <th>settlement_status</th>\n",
       "      <th>settlement_date</th>\n",
       "      <th>settlement_amount</th>\n",
       "      <th>settlement_percentage</th>\n",
       "      <th>settlement_term</th>\n",
       "    </tr>\n",
       "  </thead>\n",
       "  <tbody>\n",
       "    <tr>\n",
       "      <th>0</th>\n",
       "      <td>NaN</td>\n",
       "      <td>NaN</td>\n",
       "      <td>2500</td>\n",
       "      <td>2500</td>\n",
       "      <td>2500.0</td>\n",
       "      <td>36 months</td>\n",
       "      <td>13.56</td>\n",
       "      <td>84.92</td>\n",
       "      <td>C</td>\n",
       "      <td>C1</td>\n",
       "      <td>...</td>\n",
       "      <td>NaN</td>\n",
       "      <td>NaN</td>\n",
       "      <td>Cash</td>\n",
       "      <td>N</td>\n",
       "      <td>NaN</td>\n",
       "      <td>NaN</td>\n",
       "      <td>NaN</td>\n",
       "      <td>NaN</td>\n",
       "      <td>NaN</td>\n",
       "      <td>NaN</td>\n",
       "    </tr>\n",
       "    <tr>\n",
       "      <th>1</th>\n",
       "      <td>NaN</td>\n",
       "      <td>NaN</td>\n",
       "      <td>30000</td>\n",
       "      <td>30000</td>\n",
       "      <td>30000.0</td>\n",
       "      <td>60 months</td>\n",
       "      <td>18.94</td>\n",
       "      <td>777.23</td>\n",
       "      <td>D</td>\n",
       "      <td>D2</td>\n",
       "      <td>...</td>\n",
       "      <td>NaN</td>\n",
       "      <td>NaN</td>\n",
       "      <td>Cash</td>\n",
       "      <td>N</td>\n",
       "      <td>NaN</td>\n",
       "      <td>NaN</td>\n",
       "      <td>NaN</td>\n",
       "      <td>NaN</td>\n",
       "      <td>NaN</td>\n",
       "      <td>NaN</td>\n",
       "    </tr>\n",
       "    <tr>\n",
       "      <th>2</th>\n",
       "      <td>NaN</td>\n",
       "      <td>NaN</td>\n",
       "      <td>5000</td>\n",
       "      <td>5000</td>\n",
       "      <td>5000.0</td>\n",
       "      <td>36 months</td>\n",
       "      <td>17.97</td>\n",
       "      <td>180.69</td>\n",
       "      <td>D</td>\n",
       "      <td>D1</td>\n",
       "      <td>...</td>\n",
       "      <td>NaN</td>\n",
       "      <td>NaN</td>\n",
       "      <td>Cash</td>\n",
       "      <td>N</td>\n",
       "      <td>NaN</td>\n",
       "      <td>NaN</td>\n",
       "      <td>NaN</td>\n",
       "      <td>NaN</td>\n",
       "      <td>NaN</td>\n",
       "      <td>NaN</td>\n",
       "    </tr>\n",
       "    <tr>\n",
       "      <th>3</th>\n",
       "      <td>NaN</td>\n",
       "      <td>NaN</td>\n",
       "      <td>4000</td>\n",
       "      <td>4000</td>\n",
       "      <td>4000.0</td>\n",
       "      <td>36 months</td>\n",
       "      <td>18.94</td>\n",
       "      <td>146.51</td>\n",
       "      <td>D</td>\n",
       "      <td>D2</td>\n",
       "      <td>...</td>\n",
       "      <td>NaN</td>\n",
       "      <td>NaN</td>\n",
       "      <td>Cash</td>\n",
       "      <td>N</td>\n",
       "      <td>NaN</td>\n",
       "      <td>NaN</td>\n",
       "      <td>NaN</td>\n",
       "      <td>NaN</td>\n",
       "      <td>NaN</td>\n",
       "      <td>NaN</td>\n",
       "    </tr>\n",
       "    <tr>\n",
       "      <th>4</th>\n",
       "      <td>NaN</td>\n",
       "      <td>NaN</td>\n",
       "      <td>30000</td>\n",
       "      <td>30000</td>\n",
       "      <td>30000.0</td>\n",
       "      <td>60 months</td>\n",
       "      <td>16.14</td>\n",
       "      <td>731.78</td>\n",
       "      <td>C</td>\n",
       "      <td>C4</td>\n",
       "      <td>...</td>\n",
       "      <td>NaN</td>\n",
       "      <td>NaN</td>\n",
       "      <td>Cash</td>\n",
       "      <td>N</td>\n",
       "      <td>NaN</td>\n",
       "      <td>NaN</td>\n",
       "      <td>NaN</td>\n",
       "      <td>NaN</td>\n",
       "      <td>NaN</td>\n",
       "      <td>NaN</td>\n",
       "    </tr>\n",
       "  </tbody>\n",
       "</table>\n",
       "<p>5 rows × 145 columns</p>\n",
       "</div>"
      ],
      "text/plain": [
       "   id  member_id  loan_amnt  funded_amnt  funded_amnt_inv        term  \\\n",
       "0 NaN        NaN       2500         2500           2500.0   36 months   \n",
       "1 NaN        NaN      30000        30000          30000.0   60 months   \n",
       "2 NaN        NaN       5000         5000           5000.0   36 months   \n",
       "3 NaN        NaN       4000         4000           4000.0   36 months   \n",
       "4 NaN        NaN      30000        30000          30000.0   60 months   \n",
       "\n",
       "   int_rate  installment grade sub_grade  ... hardship_payoff_balance_amount  \\\n",
       "0     13.56        84.92     C        C1  ...                            NaN   \n",
       "1     18.94       777.23     D        D2  ...                            NaN   \n",
       "2     17.97       180.69     D        D1  ...                            NaN   \n",
       "3     18.94       146.51     D        D2  ...                            NaN   \n",
       "4     16.14       731.78     C        C4  ...                            NaN   \n",
       "\n",
       "  hardship_last_payment_amount disbursement_method  debt_settlement_flag  \\\n",
       "0                          NaN                Cash                     N   \n",
       "1                          NaN                Cash                     N   \n",
       "2                          NaN                Cash                     N   \n",
       "3                          NaN                Cash                     N   \n",
       "4                          NaN                Cash                     N   \n",
       "\n",
       "  debt_settlement_flag_date settlement_status settlement_date  \\\n",
       "0                       NaN               NaN             NaN   \n",
       "1                       NaN               NaN             NaN   \n",
       "2                       NaN               NaN             NaN   \n",
       "3                       NaN               NaN             NaN   \n",
       "4                       NaN               NaN             NaN   \n",
       "\n",
       "  settlement_amount  settlement_percentage settlement_term  \n",
       "0               NaN                    NaN             NaN  \n",
       "1               NaN                    NaN             NaN  \n",
       "2               NaN                    NaN             NaN  \n",
       "3               NaN                    NaN             NaN  \n",
       "4               NaN                    NaN             NaN  \n",
       "\n",
       "[5 rows x 145 columns]"
      ]
     },
     "execution_count": 4,
     "metadata": {},
     "output_type": "execute_result"
    }
   ],
   "source": [
    "data.head()"
   ]
  },
  {
   "cell_type": "code",
   "execution_count": 5,
   "id": "436a7660",
   "metadata": {},
   "outputs": [
    {
     "name": "stdout",
     "output_type": "stream",
     "text": [
      "<class 'pandas.core.frame.DataFrame'>\n",
      "RangeIndex: 2260668 entries, 0 to 2260667\n",
      "Columns: 145 entries, id to settlement_term\n",
      "dtypes: float64(105), int64(4), object(36)\n",
      "memory usage: 2.4+ GB\n"
     ]
    }
   ],
   "source": [
    "data.info()"
   ]
  },
  {
   "cell_type": "code",
   "execution_count": 6,
   "id": "0f6b8599",
   "metadata": {},
   "outputs": [
    {
     "data": {
      "text/plain": [
       "id                       2260668\n",
       "member_id                2260668\n",
       "loan_amnt                      0\n",
       "funded_amnt                    0\n",
       "funded_amnt_inv                0\n",
       "                          ...   \n",
       "settlement_status        2227612\n",
       "settlement_date          2227612\n",
       "settlement_amount        2227612\n",
       "settlement_percentage    2227612\n",
       "settlement_term          2227612\n",
       "Length: 145, dtype: int64"
      ]
     },
     "execution_count": 6,
     "metadata": {},
     "output_type": "execute_result"
    }
   ],
   "source": [
    "data.isna().sum()"
   ]
  },
  {
   "cell_type": "markdown",
   "id": "ba505423",
   "metadata": {},
   "source": [
    "Identifying the Target Variable"
   ]
  },
  {
   "cell_type": "code",
   "execution_count": 7,
   "id": "21f3fd27",
   "metadata": {},
   "outputs": [],
   "source": [
    "loan_status_mapping = {\n",
    "    \"Fully Paid\": 1,\n",
    "    \"Current\": 1,\n",
    "    \"In Grace Period\": 1,\n",
    "    \"Default\": 0,\n",
    "    \"Charged Off\": 0,\n",
    "    \"Late (31-120 days)\": 0,\n",
    "    \"Late (16-30 days)\": 0\n",
    "}\n",
    "\n",
    "data[\"loan_status_new\"] = data[\"loan_status\"].map(loan_status_mapping)"
   ]
  },
  {
   "cell_type": "code",
   "execution_count": 8,
   "id": "4eefe6d5",
   "metadata": {},
   "outputs": [],
   "source": [
    "data.drop(\"loan_status\", axis = 1, inplace = True)"
   ]
  },
  {
   "cell_type": "code",
   "execution_count": 9,
   "id": "ecbdb97e",
   "metadata": {},
   "outputs": [
    {
     "data": {
      "text/plain": [
       "loan_status_new\n",
       "1.0    1970599\n",
       "0.0     287320\n",
       "Name: count, dtype: int64"
      ]
     },
     "execution_count": 9,
     "metadata": {},
     "output_type": "execute_result"
    }
   ],
   "source": [
    "data[\"loan_status_new\"].value_counts()"
   ]
  },
  {
   "cell_type": "code",
   "execution_count": 10,
   "id": "0fe41399",
   "metadata": {},
   "outputs": [],
   "source": [
    "data.dropna(subset=[\"loan_status_new\"], inplace = True)"
   ]
  },
  {
   "cell_type": "code",
   "execution_count": 11,
   "id": "021878ef",
   "metadata": {},
   "outputs": [
    {
     "data": {
      "text/plain": [
       "0"
      ]
     },
     "execution_count": 11,
     "metadata": {},
     "output_type": "execute_result"
    }
   ],
   "source": [
    "data[\"loan_status_new\"].isna().sum()"
   ]
  },
  {
   "cell_type": "code",
   "execution_count": 12,
   "id": "c01d4f38",
   "metadata": {},
   "outputs": [
    {
     "data": {
      "image/png": "[encoded data removed]",
      "text/plain": [
       "<Figure size 600x400 with 1 Axes>"
      ]
     },
     "metadata": {},
     "output_type": "display_data"
    }
   ],
   "source": [
    "labels = [\"No Default(1)\", \"Default(0)\"]\n",
    "values = [data[\"loan_status_new\"].value_counts()[1],\n",
    "          data[\"loan_status_new\"].value_counts()[0]]\n",
    "\n",
    "fig, ax = plt.subplots(figsize = (6,4))\n",
    "bars = ax.bar(labels, values, color = [\"#4CAF50\", \"#F44336\"])\n",
    "ax.set_title(\"Loan Status Distribution\")\n",
    "ax.set_ylabel(\"Count\")\n",
    "\n",
    "for bar in bars:\n",
    "    height = bar.get_height()\n",
    "    ax.text(bar.get_x() + bar.get_width()/2, height,\n",
    "            f'{height}', ha='center', va='bottom')\n",
    "\n",
    "plt.show() \n"
   ]
  },
  {
   "cell_type": "code",
   "execution_count": 13,
   "id": "91690398",
   "metadata": {},
   "outputs": [
    {
     "data": {
      "text/plain": [
       "id                       2257919\n",
       "member_id                2257919\n",
       "loan_amnt                      0\n",
       "funded_amnt                    0\n",
       "funded_amnt_inv                0\n",
       "                          ...   \n",
       "settlement_date          2224873\n",
       "settlement_amount        2224873\n",
       "settlement_percentage    2224873\n",
       "settlement_term          2224873\n",
       "loan_status_new                0\n",
       "Length: 145, dtype: int64"
      ]
     },
     "execution_count": 13,
     "metadata": {},
     "output_type": "execute_result"
    }
   ],
   "source": [
    "data.isna().sum()"
   ]
  },
  {
   "cell_type": "markdown",
   "id": "792a990e",
   "metadata": {},
   "source": [
    "Working with Missing Value"
   ]
  },
  {
   "cell_type": "markdown",
   "id": "e33632c7",
   "metadata": {},
   "source": [
    "Removing columns where missing value is larger than 50%"
   ]
  },
  {
   "cell_type": "code",
   "execution_count": 14,
   "id": "65c4e5ac",
   "metadata": {},
   "outputs": [],
   "source": [
    "def missing_data_summary(df, threshold):\n",
    "    return (pd.DataFrame(data.isna().sum())\n",
    "            .reset_index()\n",
    "            .rename(columns = {\"index\" : \"Columns\", 0 : \"Missing_Values\"})\n",
    "            .query(\"Missing_Values > 0\")\n",
    "            .assign(Missing_Values_Percentage = lambda x : x[\"Missing_Values\"] / data.shape[0] * 100)\n",
    "            .query(f\"Missing_Values_Percentage > {threshold}\")\n",
    "            .sort_values(\"Missing_Values\", ascending = False)\n",
    "            .reset_index(drop = True)\n",
    "    )"
   ]
  },
  {
   "cell_type": "code",
   "execution_count": 15,
   "id": "f348c518",
   "metadata": {},
   "outputs": [],
   "source": [
    "md = missing_data_summary(data, 50)"
   ]
  },
  {
   "cell_type": "code",
   "execution_count": 16,
   "id": "5ea49ab6",
   "metadata": {},
   "outputs": [
    {
     "data": {
      "text/html": [
       "<div>\n",
       "<style scoped>\n",
       "    .dataframe tbody tr th:only-of-type {\n",
       "        vertical-align: middle;\n",
       "    }\n",
       "\n",
       "    .dataframe tbody tr th {\n",
       "        vertical-align: top;\n",
       "    }\n",
       "\n",
       "    .dataframe thead th {\n",
       "        text-align: right;\n",
       "    }\n",
       "</style>\n",
       "<table border=\"1\" class=\"dataframe\">\n",
       "  <thead>\n",
       "    <tr style=\"text-align: right;\">\n",
       "      <th></th>\n",
       "      <th>Columns</th>\n",
       "      <th>Missing_Values</th>\n",
       "      <th>Missing_Values_Percentage</th>\n",
       "    </tr>\n",
       "  </thead>\n",
       "  <tbody>\n",
       "    <tr>\n",
       "      <th>0</th>\n",
       "      <td>id</td>\n",
       "      <td>2257919</td>\n",
       "      <td>100.000000</td>\n",
       "    </tr>\n",
       "    <tr>\n",
       "      <th>1</th>\n",
       "      <td>url</td>\n",
       "      <td>2257919</td>\n",
       "      <td>100.000000</td>\n",
       "    </tr>\n",
       "    <tr>\n",
       "      <th>2</th>\n",
       "      <td>member_id</td>\n",
       "      <td>2257919</td>\n",
       "      <td>100.000000</td>\n",
       "    </tr>\n",
       "    <tr>\n",
       "      <th>3</th>\n",
       "      <td>orig_projected_additional_accrued_interest</td>\n",
       "      <td>2249493</td>\n",
       "      <td>99.626825</td>\n",
       "    </tr>\n",
       "    <tr>\n",
       "      <th>4</th>\n",
       "      <td>hardship_length</td>\n",
       "      <td>2247306</td>\n",
       "      <td>99.529965</td>\n",
       "    </tr>\n",
       "    <tr>\n",
       "      <th>5</th>\n",
       "      <td>hardship_reason</td>\n",
       "      <td>2247306</td>\n",
       "      <td>99.529965</td>\n",
       "    </tr>\n",
       "    <tr>\n",
       "      <th>6</th>\n",
       "      <td>hardship_status</td>\n",
       "      <td>2247306</td>\n",
       "      <td>99.529965</td>\n",
       "    </tr>\n",
       "    <tr>\n",
       "      <th>7</th>\n",
       "      <td>deferral_term</td>\n",
       "      <td>2247306</td>\n",
       "      <td>99.529965</td>\n",
       "    </tr>\n",
       "    <tr>\n",
       "      <th>8</th>\n",
       "      <td>hardship_amount</td>\n",
       "      <td>2247306</td>\n",
       "      <td>99.529965</td>\n",
       "    </tr>\n",
       "    <tr>\n",
       "      <th>9</th>\n",
       "      <td>hardship_start_date</td>\n",
       "      <td>2247306</td>\n",
       "      <td>99.529965</td>\n",
       "    </tr>\n",
       "    <tr>\n",
       "      <th>10</th>\n",
       "      <td>hardship_end_date</td>\n",
       "      <td>2247306</td>\n",
       "      <td>99.529965</td>\n",
       "    </tr>\n",
       "    <tr>\n",
       "      <th>11</th>\n",
       "      <td>payment_plan_start_date</td>\n",
       "      <td>2247306</td>\n",
       "      <td>99.529965</td>\n",
       "    </tr>\n",
       "    <tr>\n",
       "      <th>12</th>\n",
       "      <td>hardship_loan_status</td>\n",
       "      <td>2247306</td>\n",
       "      <td>99.529965</td>\n",
       "    </tr>\n",
       "    <tr>\n",
       "      <th>13</th>\n",
       "      <td>hardship_dpd</td>\n",
       "      <td>2247306</td>\n",
       "      <td>99.529965</td>\n",
       "    </tr>\n",
       "    <tr>\n",
       "      <th>14</th>\n",
       "      <td>hardship_payoff_balance_amount</td>\n",
       "      <td>2247306</td>\n",
       "      <td>99.529965</td>\n",
       "    </tr>\n",
       "    <tr>\n",
       "      <th>15</th>\n",
       "      <td>hardship_last_payment_amount</td>\n",
       "      <td>2247306</td>\n",
       "      <td>99.529965</td>\n",
       "    </tr>\n",
       "    <tr>\n",
       "      <th>16</th>\n",
       "      <td>hardship_type</td>\n",
       "      <td>2247306</td>\n",
       "      <td>99.529965</td>\n",
       "    </tr>\n",
       "    <tr>\n",
       "      <th>17</th>\n",
       "      <td>debt_settlement_flag_date</td>\n",
       "      <td>2224873</td>\n",
       "      <td>98.536440</td>\n",
       "    </tr>\n",
       "    <tr>\n",
       "      <th>18</th>\n",
       "      <td>settlement_status</td>\n",
       "      <td>2224873</td>\n",
       "      <td>98.536440</td>\n",
       "    </tr>\n",
       "    <tr>\n",
       "      <th>19</th>\n",
       "      <td>settlement_date</td>\n",
       "      <td>2224873</td>\n",
       "      <td>98.536440</td>\n",
       "    </tr>\n",
       "    <tr>\n",
       "      <th>20</th>\n",
       "      <td>settlement_amount</td>\n",
       "      <td>2224873</td>\n",
       "      <td>98.536440</td>\n",
       "    </tr>\n",
       "    <tr>\n",
       "      <th>21</th>\n",
       "      <td>settlement_percentage</td>\n",
       "      <td>2224873</td>\n",
       "      <td>98.536440</td>\n",
       "    </tr>\n",
       "    <tr>\n",
       "      <th>22</th>\n",
       "      <td>settlement_term</td>\n",
       "      <td>2224873</td>\n",
       "      <td>98.536440</td>\n",
       "    </tr>\n",
       "    <tr>\n",
       "      <th>23</th>\n",
       "      <td>sec_app_mths_since_last_major_derog</td>\n",
       "      <td>2221977</td>\n",
       "      <td>98.408180</td>\n",
       "    </tr>\n",
       "    <tr>\n",
       "      <th>24</th>\n",
       "      <td>sec_app_revol_util</td>\n",
       "      <td>2151735</td>\n",
       "      <td>95.297263</td>\n",
       "    </tr>\n",
       "    <tr>\n",
       "      <th>25</th>\n",
       "      <td>revol_bal_joint</td>\n",
       "      <td>2149899</td>\n",
       "      <td>95.215949</td>\n",
       "    </tr>\n",
       "    <tr>\n",
       "      <th>26</th>\n",
       "      <td>sec_app_inq_last_6mths</td>\n",
       "      <td>2149898</td>\n",
       "      <td>95.215905</td>\n",
       "    </tr>\n",
       "    <tr>\n",
       "      <th>27</th>\n",
       "      <td>sec_app_chargeoff_within_12_mths</td>\n",
       "      <td>2149898</td>\n",
       "      <td>95.215905</td>\n",
       "    </tr>\n",
       "    <tr>\n",
       "      <th>28</th>\n",
       "      <td>sec_app_earliest_cr_line</td>\n",
       "      <td>2149898</td>\n",
       "      <td>95.215905</td>\n",
       "    </tr>\n",
       "    <tr>\n",
       "      <th>29</th>\n",
       "      <td>sec_app_collections_12_mths_ex_med</td>\n",
       "      <td>2149898</td>\n",
       "      <td>95.215905</td>\n",
       "    </tr>\n",
       "    <tr>\n",
       "      <th>30</th>\n",
       "      <td>sec_app_mort_acc</td>\n",
       "      <td>2149898</td>\n",
       "      <td>95.215905</td>\n",
       "    </tr>\n",
       "    <tr>\n",
       "      <th>31</th>\n",
       "      <td>sec_app_open_acc</td>\n",
       "      <td>2149898</td>\n",
       "      <td>95.215905</td>\n",
       "    </tr>\n",
       "    <tr>\n",
       "      <th>32</th>\n",
       "      <td>sec_app_open_act_il</td>\n",
       "      <td>2149898</td>\n",
       "      <td>95.215905</td>\n",
       "    </tr>\n",
       "    <tr>\n",
       "      <th>33</th>\n",
       "      <td>sec_app_num_rev_accts</td>\n",
       "      <td>2149898</td>\n",
       "      <td>95.215905</td>\n",
       "    </tr>\n",
       "    <tr>\n",
       "      <th>34</th>\n",
       "      <td>verification_status_joint</td>\n",
       "      <td>2142189</td>\n",
       "      <td>94.874484</td>\n",
       "    </tr>\n",
       "    <tr>\n",
       "      <th>35</th>\n",
       "      <td>dti_joint</td>\n",
       "      <td>2137213</td>\n",
       "      <td>94.654104</td>\n",
       "    </tr>\n",
       "    <tr>\n",
       "      <th>36</th>\n",
       "      <td>annual_inc_joint</td>\n",
       "      <td>2137209</td>\n",
       "      <td>94.653927</td>\n",
       "    </tr>\n",
       "    <tr>\n",
       "      <th>37</th>\n",
       "      <td>desc</td>\n",
       "      <td>2134277</td>\n",
       "      <td>94.524073</td>\n",
       "    </tr>\n",
       "    <tr>\n",
       "      <th>38</th>\n",
       "      <td>mths_since_last_record</td>\n",
       "      <td>1899623</td>\n",
       "      <td>84.131583</td>\n",
       "    </tr>\n",
       "    <tr>\n",
       "      <th>39</th>\n",
       "      <td>mths_since_recent_bc_dlq</td>\n",
       "      <td>1738218</td>\n",
       "      <td>76.983187</td>\n",
       "    </tr>\n",
       "    <tr>\n",
       "      <th>40</th>\n",
       "      <td>mths_since_last_major_derog</td>\n",
       "      <td>1677144</td>\n",
       "      <td>74.278307</td>\n",
       "    </tr>\n",
       "    <tr>\n",
       "      <th>41</th>\n",
       "      <td>mths_since_recent_revol_delinq</td>\n",
       "      <td>1517560</td>\n",
       "      <td>67.210560</td>\n",
       "    </tr>\n",
       "    <tr>\n",
       "      <th>42</th>\n",
       "      <td>next_pymnt_d</td>\n",
       "      <td>1303607</td>\n",
       "      <td>57.734888</td>\n",
       "    </tr>\n",
       "    <tr>\n",
       "      <th>43</th>\n",
       "      <td>mths_since_last_delinq</td>\n",
       "      <td>1157303</td>\n",
       "      <td>51.255293</td>\n",
       "    </tr>\n",
       "  </tbody>\n",
       "</table>\n",
       "</div>"
      ],
      "text/plain": [
       "                                       Columns  Missing_Values  \\\n",
       "0                                           id         2257919   \n",
       "1                                          url         2257919   \n",
       "2                                    member_id         2257919   \n",
       "3   orig_projected_additional_accrued_interest         2249493   \n",
       "4                              hardship_length         2247306   \n",
       "5                              hardship_reason         2247306   \n",
       "6                              hardship_status         2247306   \n",
       "7                                deferral_term         2247306   \n",
       "8                              hardship_amount         2247306   \n",
       "9                          hardship_start_date         2247306   \n",
       "10                           hardship_end_date         2247306   \n",
       "11                     payment_plan_start_date         2247306   \n",
       "12                        hardship_loan_status         2247306   \n",
       "13                                hardship_dpd         2247306   \n",
       "14              hardship_payoff_balance_amount         2247306   \n",
       "15                hardship_last_payment_amount         2247306   \n",
       "16                               hardship_type         2247306   \n",
       "17                   debt_settlement_flag_date         2224873   \n",
       "18                           settlement_status         2224873   \n",
       "19                             settlement_date         2224873   \n",
       "20                           settlement_amount         2224873   \n",
       "21                       settlement_percentage         2224873   \n",
       "22                             settlement_term         2224873   \n",
       "23         sec_app_mths_since_last_major_derog         2221977   \n",
       "24                          sec_app_revol_util         2151735   \n",
       "25                             revol_bal_joint         2149899   \n",
       "26                      sec_app_inq_last_6mths         2149898   \n",
       "27            sec_app_chargeoff_within_12_mths         2149898   \n",
       "28                    sec_app_earliest_cr_line         2149898   \n",
       "29          sec_app_collections_12_mths_ex_med         2149898   \n",
       "30                            sec_app_mort_acc         2149898   \n",
       "31                            sec_app_open_acc         2149898   \n",
       "32                         sec_app_open_act_il         2149898   \n",
       "33                       sec_app_num_rev_accts         2149898   \n",
       "34                   verification_status_joint         2142189   \n",
       "35                                   dti_joint         2137213   \n",
       "36                            annual_inc_joint         2137209   \n",
       "37                                        desc         2134277   \n",
       "38                      mths_since_last_record         1899623   \n",
       "39                    mths_since_recent_bc_dlq         1738218   \n",
       "40                 mths_since_last_major_derog         1677144   \n",
       "41              mths_since_recent_revol_delinq         1517560   \n",
       "42                                next_pymnt_d         1303607   \n",
       "43                      mths_since_last_delinq         1157303   \n",
       "\n",
       "    Missing_Values_Percentage  \n",
       "0                  100.000000  \n",
       "1                  100.000000  \n",
       "2                  100.000000  \n",
       "3                   99.626825  \n",
       "4                   99.529965  \n",
       "5                   99.529965  \n",
       "6                   99.529965  \n",
       "7                   99.529965  \n",
       "8                   99.529965  \n",
       "9                   99.529965  \n",
       "10                  99.529965  \n",
       "11                  99.529965  \n",
       "12                  99.529965  \n",
       "13                  99.529965  \n",
       "14                  99.529965  \n",
       "15                  99.529965  \n",
       "16                  99.529965  \n",
       "17                  98.536440  \n",
       "18                  98.536440  \n",
       "19                  98.536440  \n",
       "20                  98.536440  \n",
       "21                  98.536440  \n",
       "22                  98.536440  \n",
       "23                  98.408180  \n",
       "24                  95.297263  \n",
       "25                  95.215949  \n",
       "26                  95.215905  \n",
       "27                  95.215905  \n",
       "28                  95.215905  \n",
       "29                  95.215905  \n",
       "30                  95.215905  \n",
       "31                  95.215905  \n",
       "32                  95.215905  \n",
       "33                  95.215905  \n",
       "34                  94.874484  \n",
       "35                  94.654104  \n",
       "36                  94.653927  \n",
       "37                  94.524073  \n",
       "38                  84.131583  \n",
       "39                  76.983187  \n",
       "40                  74.278307  \n",
       "41                  67.210560  \n",
       "42                  57.734888  \n",
       "43                  51.255293  "
      ]
     },
     "execution_count": 16,
     "metadata": {},
     "output_type": "execute_result"
    }
   ],
   "source": [
    "md"
   ]
  },
  {
   "cell_type": "code",
   "execution_count": 17,
   "id": "ab58460a",
   "metadata": {},
   "outputs": [],
   "source": [
    "columns_drop = md.iloc[:, 0].to_list()\n",
    "data.drop(columns_drop, axis = 1, errors = \"ignore\", inplace = True)"
   ]
  },
  {
   "cell_type": "code",
   "execution_count": 18,
   "id": "4c3b63b9",
   "metadata": {},
   "outputs": [
    {
     "data": {
      "text/html": [
       "<div>\n",
       "<style scoped>\n",
       "    .dataframe tbody tr th:only-of-type {\n",
       "        vertical-align: middle;\n",
       "    }\n",
       "\n",
       "    .dataframe tbody tr th {\n",
       "        vertical-align: top;\n",
       "    }\n",
       "\n",
       "    .dataframe thead th {\n",
       "        text-align: right;\n",
       "    }\n",
       "</style>\n",
       "<table border=\"1\" class=\"dataframe\">\n",
       "  <thead>\n",
       "    <tr style=\"text-align: right;\">\n",
       "      <th></th>\n",
       "      <th>loan_amnt</th>\n",
       "      <th>funded_amnt</th>\n",
       "      <th>funded_amnt_inv</th>\n",
       "      <th>term</th>\n",
       "      <th>int_rate</th>\n",
       "      <th>installment</th>\n",
       "      <th>grade</th>\n",
       "      <th>sub_grade</th>\n",
       "      <th>emp_title</th>\n",
       "      <th>emp_length</th>\n",
       "      <th>...</th>\n",
       "      <th>pub_rec_bankruptcies</th>\n",
       "      <th>tax_liens</th>\n",
       "      <th>tot_hi_cred_lim</th>\n",
       "      <th>total_bal_ex_mort</th>\n",
       "      <th>total_bc_limit</th>\n",
       "      <th>total_il_high_credit_limit</th>\n",
       "      <th>hardship_flag</th>\n",
       "      <th>disbursement_method</th>\n",
       "      <th>debt_settlement_flag</th>\n",
       "      <th>loan_status_new</th>\n",
       "    </tr>\n",
       "  </thead>\n",
       "  <tbody>\n",
       "    <tr>\n",
       "      <th>0</th>\n",
       "      <td>2500</td>\n",
       "      <td>2500</td>\n",
       "      <td>2500.0</td>\n",
       "      <td>36 months</td>\n",
       "      <td>13.56</td>\n",
       "      <td>84.92</td>\n",
       "      <td>C</td>\n",
       "      <td>C1</td>\n",
       "      <td>Chef</td>\n",
       "      <td>10+ years</td>\n",
       "      <td>...</td>\n",
       "      <td>1.0</td>\n",
       "      <td>0.0</td>\n",
       "      <td>60124.0</td>\n",
       "      <td>16901.0</td>\n",
       "      <td>36500.0</td>\n",
       "      <td>18124.0</td>\n",
       "      <td>N</td>\n",
       "      <td>Cash</td>\n",
       "      <td>N</td>\n",
       "      <td>1.0</td>\n",
       "    </tr>\n",
       "    <tr>\n",
       "      <th>1</th>\n",
       "      <td>30000</td>\n",
       "      <td>30000</td>\n",
       "      <td>30000.0</td>\n",
       "      <td>60 months</td>\n",
       "      <td>18.94</td>\n",
       "      <td>777.23</td>\n",
       "      <td>D</td>\n",
       "      <td>D2</td>\n",
       "      <td>Postmaster</td>\n",
       "      <td>10+ years</td>\n",
       "      <td>...</td>\n",
       "      <td>1.0</td>\n",
       "      <td>0.0</td>\n",
       "      <td>372872.0</td>\n",
       "      <td>99468.0</td>\n",
       "      <td>15000.0</td>\n",
       "      <td>94072.0</td>\n",
       "      <td>N</td>\n",
       "      <td>Cash</td>\n",
       "      <td>N</td>\n",
       "      <td>1.0</td>\n",
       "    </tr>\n",
       "    <tr>\n",
       "      <th>2</th>\n",
       "      <td>5000</td>\n",
       "      <td>5000</td>\n",
       "      <td>5000.0</td>\n",
       "      <td>36 months</td>\n",
       "      <td>17.97</td>\n",
       "      <td>180.69</td>\n",
       "      <td>D</td>\n",
       "      <td>D1</td>\n",
       "      <td>Administrative</td>\n",
       "      <td>6 years</td>\n",
       "      <td>...</td>\n",
       "      <td>0.0</td>\n",
       "      <td>0.0</td>\n",
       "      <td>136927.0</td>\n",
       "      <td>11749.0</td>\n",
       "      <td>13800.0</td>\n",
       "      <td>10000.0</td>\n",
       "      <td>N</td>\n",
       "      <td>Cash</td>\n",
       "      <td>N</td>\n",
       "      <td>1.0</td>\n",
       "    </tr>\n",
       "    <tr>\n",
       "      <th>3</th>\n",
       "      <td>4000</td>\n",
       "      <td>4000</td>\n",
       "      <td>4000.0</td>\n",
       "      <td>36 months</td>\n",
       "      <td>18.94</td>\n",
       "      <td>146.51</td>\n",
       "      <td>D</td>\n",
       "      <td>D2</td>\n",
       "      <td>IT Supervisor</td>\n",
       "      <td>10+ years</td>\n",
       "      <td>...</td>\n",
       "      <td>0.0</td>\n",
       "      <td>0.0</td>\n",
       "      <td>385183.0</td>\n",
       "      <td>36151.0</td>\n",
       "      <td>5000.0</td>\n",
       "      <td>44984.0</td>\n",
       "      <td>N</td>\n",
       "      <td>Cash</td>\n",
       "      <td>N</td>\n",
       "      <td>1.0</td>\n",
       "    </tr>\n",
       "    <tr>\n",
       "      <th>4</th>\n",
       "      <td>30000</td>\n",
       "      <td>30000</td>\n",
       "      <td>30000.0</td>\n",
       "      <td>60 months</td>\n",
       "      <td>16.14</td>\n",
       "      <td>731.78</td>\n",
       "      <td>C</td>\n",
       "      <td>C4</td>\n",
       "      <td>Mechanic</td>\n",
       "      <td>10+ years</td>\n",
       "      <td>...</td>\n",
       "      <td>0.0</td>\n",
       "      <td>0.0</td>\n",
       "      <td>157548.0</td>\n",
       "      <td>29674.0</td>\n",
       "      <td>9300.0</td>\n",
       "      <td>32332.0</td>\n",
       "      <td>N</td>\n",
       "      <td>Cash</td>\n",
       "      <td>N</td>\n",
       "      <td>1.0</td>\n",
       "    </tr>\n",
       "    <tr>\n",
       "      <th>...</th>\n",
       "      <td>...</td>\n",
       "      <td>...</td>\n",
       "      <td>...</td>\n",
       "      <td>...</td>\n",
       "      <td>...</td>\n",
       "      <td>...</td>\n",
       "      <td>...</td>\n",
       "      <td>...</td>\n",
       "      <td>...</td>\n",
       "      <td>...</td>\n",
       "      <td>...</td>\n",
       "      <td>...</td>\n",
       "      <td>...</td>\n",
       "      <td>...</td>\n",
       "      <td>...</td>\n",
       "      <td>...</td>\n",
       "      <td>...</td>\n",
       "      <td>...</td>\n",
       "      <td>...</td>\n",
       "      <td>...</td>\n",
       "      <td>...</td>\n",
       "    </tr>\n",
       "    <tr>\n",
       "      <th>2260663</th>\n",
       "      <td>12000</td>\n",
       "      <td>12000</td>\n",
       "      <td>12000.0</td>\n",
       "      <td>60 months</td>\n",
       "      <td>14.08</td>\n",
       "      <td>279.72</td>\n",
       "      <td>C</td>\n",
       "      <td>C3</td>\n",
       "      <td>house keeper</td>\n",
       "      <td>10+ years</td>\n",
       "      <td>...</td>\n",
       "      <td>0.0</td>\n",
       "      <td>0.0</td>\n",
       "      <td>73948.0</td>\n",
       "      <td>45212.0</td>\n",
       "      <td>6200.0</td>\n",
       "      <td>49448.0</td>\n",
       "      <td>N</td>\n",
       "      <td>Cash</td>\n",
       "      <td>N</td>\n",
       "      <td>1.0</td>\n",
       "    </tr>\n",
       "    <tr>\n",
       "      <th>2260664</th>\n",
       "      <td>12000</td>\n",
       "      <td>12000</td>\n",
       "      <td>12000.0</td>\n",
       "      <td>60 months</td>\n",
       "      <td>25.82</td>\n",
       "      <td>358.01</td>\n",
       "      <td>E</td>\n",
       "      <td>E4</td>\n",
       "      <td>Skilled Labor</td>\n",
       "      <td>&lt; 1 year</td>\n",
       "      <td>...</td>\n",
       "      <td>0.0</td>\n",
       "      <td>0.0</td>\n",
       "      <td>382275.0</td>\n",
       "      <td>12928.0</td>\n",
       "      <td>11400.0</td>\n",
       "      <td>12125.0</td>\n",
       "      <td>N</td>\n",
       "      <td>Cash</td>\n",
       "      <td>N</td>\n",
       "      <td>1.0</td>\n",
       "    </tr>\n",
       "    <tr>\n",
       "      <th>2260665</th>\n",
       "      <td>10000</td>\n",
       "      <td>10000</td>\n",
       "      <td>10000.0</td>\n",
       "      <td>36 months</td>\n",
       "      <td>11.99</td>\n",
       "      <td>332.10</td>\n",
       "      <td>B</td>\n",
       "      <td>B5</td>\n",
       "      <td>Teacher</td>\n",
       "      <td>10+ years</td>\n",
       "      <td>...</td>\n",
       "      <td>0.0</td>\n",
       "      <td>0.0</td>\n",
       "      <td>203417.0</td>\n",
       "      <td>36448.0</td>\n",
       "      <td>2000.0</td>\n",
       "      <td>29317.0</td>\n",
       "      <td>N</td>\n",
       "      <td>Cash</td>\n",
       "      <td>N</td>\n",
       "      <td>1.0</td>\n",
       "    </tr>\n",
       "    <tr>\n",
       "      <th>2260666</th>\n",
       "      <td>12000</td>\n",
       "      <td>12000</td>\n",
       "      <td>12000.0</td>\n",
       "      <td>60 months</td>\n",
       "      <td>21.45</td>\n",
       "      <td>327.69</td>\n",
       "      <td>D</td>\n",
       "      <td>D5</td>\n",
       "      <td>NaN</td>\n",
       "      <td>NaN</td>\n",
       "      <td>...</td>\n",
       "      <td>0.0</td>\n",
       "      <td>0.0</td>\n",
       "      <td>118975.0</td>\n",
       "      <td>65238.0</td>\n",
       "      <td>22000.0</td>\n",
       "      <td>81975.0</td>\n",
       "      <td>N</td>\n",
       "      <td>Cash</td>\n",
       "      <td>N</td>\n",
       "      <td>1.0</td>\n",
       "    </tr>\n",
       "    <tr>\n",
       "      <th>2260667</th>\n",
       "      <td>16550</td>\n",
       "      <td>16550</td>\n",
       "      <td>16550.0</td>\n",
       "      <td>60 months</td>\n",
       "      <td>21.45</td>\n",
       "      <td>451.94</td>\n",
       "      <td>D</td>\n",
       "      <td>D5</td>\n",
       "      <td>BABYSITTER</td>\n",
       "      <td>3 years</td>\n",
       "      <td>...</td>\n",
       "      <td>0.0</td>\n",
       "      <td>0.0</td>\n",
       "      <td>50700.0</td>\n",
       "      <td>25760.0</td>\n",
       "      <td>19500.0</td>\n",
       "      <td>0.0</td>\n",
       "      <td>N</td>\n",
       "      <td>Cash</td>\n",
       "      <td>N</td>\n",
       "      <td>1.0</td>\n",
       "    </tr>\n",
       "  </tbody>\n",
       "</table>\n",
       "<p>2257919 rows × 101 columns</p>\n",
       "</div>"
      ],
      "text/plain": [
       "         loan_amnt  funded_amnt  funded_amnt_inv        term  int_rate  \\\n",
       "0             2500         2500           2500.0   36 months     13.56   \n",
       "1            30000        30000          30000.0   60 months     18.94   \n",
       "2             5000         5000           5000.0   36 months     17.97   \n",
       "3             4000         4000           4000.0   36 months     18.94   \n",
       "4            30000        30000          30000.0   60 months     16.14   \n",
       "...            ...          ...              ...         ...       ...   \n",
       "2260663      12000        12000          12000.0   60 months     14.08   \n",
       "2260664      12000        12000          12000.0   60 months     25.82   \n",
       "2260665      10000        10000          10000.0   36 months     11.99   \n",
       "2260666      12000        12000          12000.0   60 months     21.45   \n",
       "2260667      16550        16550          16550.0   60 months     21.45   \n",
       "\n",
       "         installment grade sub_grade       emp_title emp_length  ...  \\\n",
       "0              84.92     C        C1            Chef  10+ years  ...   \n",
       "1             777.23     D        D2     Postmaster   10+ years  ...   \n",
       "2             180.69     D        D1  Administrative    6 years  ...   \n",
       "3             146.51     D        D2   IT Supervisor  10+ years  ...   \n",
       "4             731.78     C        C4        Mechanic  10+ years  ...   \n",
       "...              ...   ...       ...             ...        ...  ...   \n",
       "2260663       279.72     C        C3    house keeper  10+ years  ...   \n",
       "2260664       358.01     E        E4   Skilled Labor   < 1 year  ...   \n",
       "2260665       332.10     B        B5         Teacher  10+ years  ...   \n",
       "2260666       327.69     D        D5             NaN        NaN  ...   \n",
       "2260667       451.94     D        D5      BABYSITTER    3 years  ...   \n",
       "\n",
       "        pub_rec_bankruptcies  tax_liens tot_hi_cred_lim total_bal_ex_mort  \\\n",
       "0                        1.0        0.0         60124.0           16901.0   \n",
       "1                        1.0        0.0        372872.0           99468.0   \n",
       "2                        0.0        0.0        136927.0           11749.0   \n",
       "3                        0.0        0.0        385183.0           36151.0   \n",
       "4                        0.0        0.0        157548.0           29674.0   \n",
       "...                      ...        ...             ...               ...   \n",
       "2260663                  0.0        0.0         73948.0           45212.0   \n",
       "2260664                  0.0        0.0        382275.0           12928.0   \n",
       "2260665                  0.0        0.0        203417.0           36448.0   \n",
       "2260666                  0.0        0.0        118975.0           65238.0   \n",
       "2260667                  0.0        0.0         50700.0           25760.0   \n",
       "\n",
       "        total_bc_limit total_il_high_credit_limit hardship_flag  \\\n",
       "0              36500.0                    18124.0             N   \n",
       "1              15000.0                    94072.0             N   \n",
       "2              13800.0                    10000.0             N   \n",
       "3               5000.0                    44984.0             N   \n",
       "4               9300.0                    32332.0             N   \n",
       "...                ...                        ...           ...   \n",
       "2260663         6200.0                    49448.0             N   \n",
       "2260664        11400.0                    12125.0             N   \n",
       "2260665         2000.0                    29317.0             N   \n",
       "2260666        22000.0                    81975.0             N   \n",
       "2260667        19500.0                        0.0             N   \n",
       "\n",
       "        disbursement_method debt_settlement_flag  loan_status_new  \n",
       "0                      Cash                    N              1.0  \n",
       "1                      Cash                    N              1.0  \n",
       "2                      Cash                    N              1.0  \n",
       "3                      Cash                    N              1.0  \n",
       "4                      Cash                    N              1.0  \n",
       "...                     ...                  ...              ...  \n",
       "2260663                Cash                    N              1.0  \n",
       "2260664                Cash                    N              1.0  \n",
       "2260665                Cash                    N              1.0  \n",
       "2260666                Cash                    N              1.0  \n",
       "2260667                Cash                    N              1.0  \n",
       "\n",
       "[2257919 rows x 101 columns]"
      ]
     },
     "execution_count": 18,
     "metadata": {},
     "output_type": "execute_result"
    }
   ],
   "source": [
    "data"
   ]
  },
  {
   "cell_type": "code",
   "execution_count": 19,
   "id": "567804e4",
   "metadata": {},
   "outputs": [
    {
     "name": "stdout",
     "output_type": "stream",
     "text": [
      "<class 'pandas.core.frame.DataFrame'>\n",
      "Index: 2257919 entries, 0 to 2260667\n",
      "Columns: 101 entries, loan_amnt to loan_status_new\n",
      "dtypes: float64(76), int64(4), object(21)\n",
      "memory usage: 1.7+ GB\n"
     ]
    }
   ],
   "source": [
    "data.info()"
   ]
  },
  {
   "cell_type": "markdown",
   "id": "4431bef4",
   "metadata": {},
   "source": [
    "Inspecting Categorical Columns"
   ]
  },
  {
   "cell_type": "code",
   "execution_count": 20,
   "id": "cc568035",
   "metadata": {},
   "outputs": [
    {
     "data": {
      "text/html": [
       "<div>\n",
       "<style scoped>\n",
       "    .dataframe tbody tr th:only-of-type {\n",
       "        vertical-align: middle;\n",
       "    }\n",
       "\n",
       "    .dataframe tbody tr th {\n",
       "        vertical-align: top;\n",
       "    }\n",
       "\n",
       "    .dataframe thead th {\n",
       "        text-align: right;\n",
       "    }\n",
       "</style>\n",
       "<table border=\"1\" class=\"dataframe\">\n",
       "  <thead>\n",
       "    <tr style=\"text-align: right;\">\n",
       "      <th></th>\n",
       "      <th>term</th>\n",
       "      <th>grade</th>\n",
       "      <th>sub_grade</th>\n",
       "      <th>emp_title</th>\n",
       "      <th>emp_length</th>\n",
       "      <th>home_ownership</th>\n",
       "      <th>verification_status</th>\n",
       "      <th>issue_d</th>\n",
       "      <th>pymnt_plan</th>\n",
       "      <th>purpose</th>\n",
       "      <th>...</th>\n",
       "      <th>zip_code</th>\n",
       "      <th>addr_state</th>\n",
       "      <th>earliest_cr_line</th>\n",
       "      <th>initial_list_status</th>\n",
       "      <th>last_pymnt_d</th>\n",
       "      <th>last_credit_pull_d</th>\n",
       "      <th>application_type</th>\n",
       "      <th>hardship_flag</th>\n",
       "      <th>disbursement_method</th>\n",
       "      <th>debt_settlement_flag</th>\n",
       "    </tr>\n",
       "  </thead>\n",
       "  <tbody>\n",
       "    <tr>\n",
       "      <th>0</th>\n",
       "      <td>36 months</td>\n",
       "      <td>C</td>\n",
       "      <td>C1</td>\n",
       "      <td>Chef</td>\n",
       "      <td>10+ years</td>\n",
       "      <td>RENT</td>\n",
       "      <td>Not Verified</td>\n",
       "      <td>Dec-2018</td>\n",
       "      <td>n</td>\n",
       "      <td>debt_consolidation</td>\n",
       "      <td>...</td>\n",
       "      <td>109xx</td>\n",
       "      <td>NY</td>\n",
       "      <td>Apr-2001</td>\n",
       "      <td>w</td>\n",
       "      <td>Feb-2019</td>\n",
       "      <td>Feb-2019</td>\n",
       "      <td>Individual</td>\n",
       "      <td>N</td>\n",
       "      <td>Cash</td>\n",
       "      <td>N</td>\n",
       "    </tr>\n",
       "    <tr>\n",
       "      <th>1</th>\n",
       "      <td>60 months</td>\n",
       "      <td>D</td>\n",
       "      <td>D2</td>\n",
       "      <td>Postmaster</td>\n",
       "      <td>10+ years</td>\n",
       "      <td>MORTGAGE</td>\n",
       "      <td>Source Verified</td>\n",
       "      <td>Dec-2018</td>\n",
       "      <td>n</td>\n",
       "      <td>debt_consolidation</td>\n",
       "      <td>...</td>\n",
       "      <td>713xx</td>\n",
       "      <td>LA</td>\n",
       "      <td>Jun-1987</td>\n",
       "      <td>w</td>\n",
       "      <td>Feb-2019</td>\n",
       "      <td>Feb-2019</td>\n",
       "      <td>Individual</td>\n",
       "      <td>N</td>\n",
       "      <td>Cash</td>\n",
       "      <td>N</td>\n",
       "    </tr>\n",
       "    <tr>\n",
       "      <th>2</th>\n",
       "      <td>36 months</td>\n",
       "      <td>D</td>\n",
       "      <td>D1</td>\n",
       "      <td>Administrative</td>\n",
       "      <td>6 years</td>\n",
       "      <td>MORTGAGE</td>\n",
       "      <td>Source Verified</td>\n",
       "      <td>Dec-2018</td>\n",
       "      <td>n</td>\n",
       "      <td>debt_consolidation</td>\n",
       "      <td>...</td>\n",
       "      <td>490xx</td>\n",
       "      <td>MI</td>\n",
       "      <td>Apr-2011</td>\n",
       "      <td>w</td>\n",
       "      <td>Feb-2019</td>\n",
       "      <td>Feb-2019</td>\n",
       "      <td>Individual</td>\n",
       "      <td>N</td>\n",
       "      <td>Cash</td>\n",
       "      <td>N</td>\n",
       "    </tr>\n",
       "    <tr>\n",
       "      <th>3</th>\n",
       "      <td>36 months</td>\n",
       "      <td>D</td>\n",
       "      <td>D2</td>\n",
       "      <td>IT Supervisor</td>\n",
       "      <td>10+ years</td>\n",
       "      <td>MORTGAGE</td>\n",
       "      <td>Source Verified</td>\n",
       "      <td>Dec-2018</td>\n",
       "      <td>n</td>\n",
       "      <td>debt_consolidation</td>\n",
       "      <td>...</td>\n",
       "      <td>985xx</td>\n",
       "      <td>WA</td>\n",
       "      <td>Feb-2006</td>\n",
       "      <td>w</td>\n",
       "      <td>Feb-2019</td>\n",
       "      <td>Feb-2019</td>\n",
       "      <td>Individual</td>\n",
       "      <td>N</td>\n",
       "      <td>Cash</td>\n",
       "      <td>N</td>\n",
       "    </tr>\n",
       "    <tr>\n",
       "      <th>4</th>\n",
       "      <td>60 months</td>\n",
       "      <td>C</td>\n",
       "      <td>C4</td>\n",
       "      <td>Mechanic</td>\n",
       "      <td>10+ years</td>\n",
       "      <td>MORTGAGE</td>\n",
       "      <td>Not Verified</td>\n",
       "      <td>Dec-2018</td>\n",
       "      <td>n</td>\n",
       "      <td>debt_consolidation</td>\n",
       "      <td>...</td>\n",
       "      <td>212xx</td>\n",
       "      <td>MD</td>\n",
       "      <td>Dec-2000</td>\n",
       "      <td>w</td>\n",
       "      <td>Feb-2019</td>\n",
       "      <td>Feb-2019</td>\n",
       "      <td>Individual</td>\n",
       "      <td>N</td>\n",
       "      <td>Cash</td>\n",
       "      <td>N</td>\n",
       "    </tr>\n",
       "  </tbody>\n",
       "</table>\n",
       "<p>5 rows × 21 columns</p>\n",
       "</div>"
      ],
      "text/plain": [
       "         term grade sub_grade       emp_title emp_length home_ownership  \\\n",
       "0   36 months     C        C1            Chef  10+ years           RENT   \n",
       "1   60 months     D        D2     Postmaster   10+ years       MORTGAGE   \n",
       "2   36 months     D        D1  Administrative    6 years       MORTGAGE   \n",
       "3   36 months     D        D2   IT Supervisor  10+ years       MORTGAGE   \n",
       "4   60 months     C        C4        Mechanic  10+ years       MORTGAGE   \n",
       "\n",
       "  verification_status   issue_d pymnt_plan             purpose  ... zip_code  \\\n",
       "0        Not Verified  Dec-2018          n  debt_consolidation  ...    109xx   \n",
       "1     Source Verified  Dec-2018          n  debt_consolidation  ...    713xx   \n",
       "2     Source Verified  Dec-2018          n  debt_consolidation  ...    490xx   \n",
       "3     Source Verified  Dec-2018          n  debt_consolidation  ...    985xx   \n",
       "4        Not Verified  Dec-2018          n  debt_consolidation  ...    212xx   \n",
       "\n",
       "  addr_state earliest_cr_line initial_list_status last_pymnt_d  \\\n",
       "0         NY         Apr-2001                   w     Feb-2019   \n",
       "1         LA         Jun-1987                   w     Feb-2019   \n",
       "2         MI         Apr-2011                   w     Feb-2019   \n",
       "3         WA         Feb-2006                   w     Feb-2019   \n",
       "4         MD         Dec-2000                   w     Feb-2019   \n",
       "\n",
       "  last_credit_pull_d application_type hardship_flag disbursement_method  \\\n",
       "0           Feb-2019       Individual             N                Cash   \n",
       "1           Feb-2019       Individual             N                Cash   \n",
       "2           Feb-2019       Individual             N                Cash   \n",
       "3           Feb-2019       Individual             N                Cash   \n",
       "4           Feb-2019       Individual             N                Cash   \n",
       "\n",
       "  debt_settlement_flag  \n",
       "0                    N  \n",
       "1                    N  \n",
       "2                    N  \n",
       "3                    N  \n",
       "4                    N  \n",
       "\n",
       "[5 rows x 21 columns]"
      ]
     },
     "execution_count": 20,
     "metadata": {},
     "output_type": "execute_result"
    }
   ],
   "source": [
    "data.select_dtypes(include = [\"object\"]).head()"
   ]
  },
  {
   "cell_type": "markdown",
   "id": "feead399",
   "metadata": {},
   "source": [
    "Clean String Columns"
   ]
  },
  {
   "cell_type": "code",
   "execution_count": 21,
   "id": "670833c5",
   "metadata": {},
   "outputs": [],
   "source": [
    "data = data.apply(lambda x: x.str.strip() if x.dtype == \"object\" else x)"
   ]
  },
  {
   "cell_type": "markdown",
   "id": "7fadb5f7",
   "metadata": {},
   "source": [
    "Converting Date Columns"
   ]
  },
  {
   "cell_type": "code",
   "execution_count": 22,
   "id": "ead4cd8b",
   "metadata": {},
   "outputs": [
    {
     "data": {
      "text/plain": [
       "Index([], dtype='object')"
      ]
     },
     "execution_count": 22,
     "metadata": {},
     "output_type": "execute_result"
    }
   ],
   "source": [
    "data.select_dtypes(include = [\"datetime64\"]).columns"
   ]
  },
  {
   "cell_type": "code",
   "execution_count": 23,
   "id": "080e0259",
   "metadata": {},
   "outputs": [],
   "source": [
    "data[\"issue_d\"] = pd.to_datetime(data[\"issue_d\"], format = \"%b-%Y\")\n",
    "data[\"earliest_cr_line\"] = pd.to_datetime(data[\"earliest_cr_line\"], format = \"%b-%Y\")\n",
    "data[\"last_pymnt_d\"] = pd.to_datetime(data[\"last_pymnt_d\"], format = \"%b-%Y\")\n",
    "data[\"last_credit_pull_d\"] = pd.to_datetime(data[\"last_credit_pull_d\"], format = \"%b-%Y\")"
   ]
  },
  {
   "cell_type": "markdown",
   "id": "5471e36e",
   "metadata": {},
   "source": [
    "Term and Employee Length Cleaning"
   ]
  },
  {
   "cell_type": "code",
   "execution_count": 24,
   "id": "97ce9c71",
   "metadata": {},
   "outputs": [
    {
     "data": {
      "text/plain": [
       "term\n",
       "36 months    1607316\n",
       "60 months     650603\n",
       "Name: count, dtype: int64"
      ]
     },
     "execution_count": 24,
     "metadata": {},
     "output_type": "execute_result"
    }
   ],
   "source": [
    "data[\"term\"].value_counts()"
   ]
  },
  {
   "cell_type": "code",
   "execution_count": 25,
   "id": "10fadb24",
   "metadata": {},
   "outputs": [
    {
     "data": {
      "text/plain": [
       "emp_length\n",
       "10+ years    747535\n",
       "2 years      203328\n",
       "< 1 year     189516\n",
       "3 years      180487\n",
       "1 year       148055\n",
       "5 years      139526\n",
       "4 years      136400\n",
       "6 years      102484\n",
       "7 years       92595\n",
       "8 years       91807\n",
       "9 years       79313\n",
       "Name: count, dtype: int64"
      ]
     },
     "execution_count": 25,
     "metadata": {},
     "output_type": "execute_result"
    }
   ],
   "source": [
    "data[\"emp_length\"].value_counts()"
   ]
  },
  {
   "cell_type": "code",
   "execution_count": 26,
   "id": "c38c3e49",
   "metadata": {},
   "outputs": [],
   "source": [
    "cols = [\"emp_length\", \"term\"]\n",
    "\n",
    "for i in cols:\n",
    "    data[i] = data[i].fillna(\"\")\n",
    "    data[i] = pd.to_numeric(data[i].str.replace(r\"[^0-9]\", \"\", regex = True), errors = \"coerce\")"
   ]
  },
  {
   "cell_type": "markdown",
   "id": "eed8737a",
   "metadata": {},
   "source": [
    "Normalizing Hardship Flag and Debt Settlement Flag"
   ]
  },
  {
   "cell_type": "code",
   "execution_count": 27,
   "id": "682825b9",
   "metadata": {},
   "outputs": [
    {
     "data": {
      "text/plain": [
       "debt_settlement_flag\n",
       "N    2224873\n",
       "Y      33046\n",
       "Name: count, dtype: int64"
      ]
     },
     "execution_count": 27,
     "metadata": {},
     "output_type": "execute_result"
    }
   ],
   "source": [
    "data[\"debt_settlement_flag\"].value_counts()"
   ]
  },
  {
   "cell_type": "code",
   "execution_count": 28,
   "id": "9800746c",
   "metadata": {},
   "outputs": [
    {
     "data": {
      "text/plain": [
       "hardship_flag\n",
       "N    2257034\n",
       "Y        885\n",
       "Name: count, dtype: int64"
      ]
     },
     "execution_count": 28,
     "metadata": {},
     "output_type": "execute_result"
    }
   ],
   "source": [
    "data[\"hardship_flag\"].value_counts()"
   ]
  },
  {
   "cell_type": "code",
   "execution_count": 29,
   "id": "b1113e80",
   "metadata": {},
   "outputs": [],
   "source": [
    "col = [\"hardship_flag\", \"debt_settlement_flag\"]\n",
    "for i in col:\n",
    "    data[i] = data[i].map({\"N\": 0 , \"Y\" : 1})"
   ]
  },
  {
   "cell_type": "markdown",
   "id": "efef9865",
   "metadata": {},
   "source": [
    "Dropping Columns that will not be Used"
   ]
  },
  {
   "cell_type": "code",
   "execution_count": 30,
   "id": "7f9b59e2",
   "metadata": {},
   "outputs": [],
   "source": [
    "columns_drop = [\"pymnt_plan\", \"zip_code\", \"addr_state\", \"emp_title\", \"title\"]\n",
    "data.drop(columns_drop, axis = 1, inplace = True)"
   ]
  },
  {
   "cell_type": "markdown",
   "id": "7032e0ba",
   "metadata": {},
   "source": [
    "Count Unique Categories"
   ]
  },
  {
   "cell_type": "code",
   "execution_count": 31,
   "id": "43e052b5",
   "metadata": {},
   "outputs": [
    {
     "data": {
      "text/html": [
       "<div>\n",
       "<style scoped>\n",
       "    .dataframe tbody tr th:only-of-type {\n",
       "        vertical-align: middle;\n",
       "    }\n",
       "\n",
       "    .dataframe tbody tr th {\n",
       "        vertical-align: top;\n",
       "    }\n",
       "\n",
       "    .dataframe thead th {\n",
       "        text-align: right;\n",
       "    }\n",
       "</style>\n",
       "<table border=\"1\" class=\"dataframe\">\n",
       "  <thead>\n",
       "    <tr style=\"text-align: right;\">\n",
       "      <th></th>\n",
       "      <th>Column</th>\n",
       "      <th>Unique_Count</th>\n",
       "    </tr>\n",
       "  </thead>\n",
       "  <tbody>\n",
       "    <tr>\n",
       "      <th>0</th>\n",
       "      <td>sub_grade</td>\n",
       "      <td>35</td>\n",
       "    </tr>\n",
       "    <tr>\n",
       "      <th>1</th>\n",
       "      <td>purpose</td>\n",
       "      <td>14</td>\n",
       "    </tr>\n",
       "    <tr>\n",
       "      <th>2</th>\n",
       "      <td>grade</td>\n",
       "      <td>7</td>\n",
       "    </tr>\n",
       "    <tr>\n",
       "      <th>3</th>\n",
       "      <td>home_ownership</td>\n",
       "      <td>6</td>\n",
       "    </tr>\n",
       "    <tr>\n",
       "      <th>4</th>\n",
       "      <td>verification_status</td>\n",
       "      <td>3</td>\n",
       "    </tr>\n",
       "    <tr>\n",
       "      <th>5</th>\n",
       "      <td>initial_list_status</td>\n",
       "      <td>2</td>\n",
       "    </tr>\n",
       "    <tr>\n",
       "      <th>6</th>\n",
       "      <td>application_type</td>\n",
       "      <td>2</td>\n",
       "    </tr>\n",
       "    <tr>\n",
       "      <th>7</th>\n",
       "      <td>disbursement_method</td>\n",
       "      <td>2</td>\n",
       "    </tr>\n",
       "  </tbody>\n",
       "</table>\n",
       "</div>"
      ],
      "text/plain": [
       "                Column  Unique_Count\n",
       "0            sub_grade            35\n",
       "1              purpose            14\n",
       "2                grade             7\n",
       "3       home_ownership             6\n",
       "4  verification_status             3\n",
       "5  initial_list_status             2\n",
       "6     application_type             2\n",
       "7  disbursement_method             2"
      ]
     },
     "execution_count": 31,
     "metadata": {},
     "output_type": "execute_result"
    }
   ],
   "source": [
    "def get_sorted_unique_counts(data):\n",
    "    object_cols = data.select_dtypes(include = [\"object\", \"category\"]).columns\n",
    "    object_nunique =  {col : data[col].nunique()for col in object_cols}\n",
    "    unique_counts = pd.DataFrame(list(object_nunique.items()), columns = [\"Column\", \"Unique_Count\"])\n",
    "    unique_counts = unique_counts.sort_values(by = \"Unique_Count\", ascending = False).reset_index(drop = True)\n",
    "    return unique_counts\n",
    "\n",
    "get_sorted_unique_counts(data)\n"
   ]
  },
  {
   "cell_type": "code",
   "execution_count": 32,
   "id": "f4a37f76",
   "metadata": {},
   "outputs": [
    {
     "name": "stderr",
     "output_type": "stream",
     "text": [
      "C:\\Users\\Phuah Kai Wen\\AppData\\Local\\Temp\\ipykernel_19924\\2003683030.py:10: UserWarning: set_ticklabels() should only be used with a fixed number of ticks, i.e. after set_ticks() or using a FixedLocator.\n",
      "  ax.set_xticklabels(labels, rotation = 45)\n"
     ]
    },
    {
     "data": {
      "image/png": "[encoded data removed]",
      "text/plain": [
       "<Figure size 1000x600 with 1 Axes>"
      ]
     },
     "metadata": {},
     "output_type": "display_data"
    }
   ],
   "source": [
    "unique_counts = get_sorted_unique_counts(data)\n",
    "\n",
    "labels = unique_counts[\"Column\"].tolist()\n",
    "values = unique_counts[\"Unique_Count\"].tolist()\n",
    "\n",
    "fig, ax = plt.subplots(figsize = (10,6))\n",
    "bars = ax.bar(labels, values, color = \"#2196F3\")\n",
    "ax.set_title(\"Unique Counts of Categorical Variables\")\n",
    "ax.set_ylabel(\"Number of Applicants\")\n",
    "ax.set_xticklabels(labels, rotation = 45)\n",
    "plt.show()\n",
    "\n",
    "\n"
   ]
  },
  {
   "cell_type": "markdown",
   "id": "47e21447",
   "metadata": {},
   "source": [
    "Investigating Categories inside sub_grade"
   ]
  },
  {
   "cell_type": "code",
   "execution_count": 33,
   "id": "0ed5e002",
   "metadata": {},
   "outputs": [
    {
     "data": {
      "text/plain": [
       "sub_grade\n",
       "A1     86787\n",
       "A2     69550\n",
       "A3     73171\n",
       "A4     95855\n",
       "A5    107566\n",
       "B1    125289\n",
       "B2    126566\n",
       "B3    131441\n",
       "B4    139717\n",
       "B5    140190\n",
       "C1    145781\n",
       "C2    130973\n",
       "C3    129064\n",
       "C4    126983\n",
       "C5    116623\n",
       "D1     81665\n",
       "D2     72766\n",
       "D3     64675\n",
       "D4     56742\n",
       "D5     47885\n",
       "E1     33457\n",
       "E2     29792\n",
       "E3     26596\n",
       "E4     22666\n",
       "E5     22592\n",
       "F1     13350\n",
       "F2      9248\n",
       "F3      7742\n",
       "F4      6082\n",
       "F5      5131\n",
       "G1      4070\n",
       "G2      2659\n",
       "G3      2064\n",
       "G4      1669\n",
       "G5      1512\n",
       "Name: count, dtype: int64"
      ]
     },
     "execution_count": 33,
     "metadata": {},
     "output_type": "execute_result"
    }
   ],
   "source": [
    "data[\"sub_grade\"].value_counts().sort_index()"
   ]
  },
  {
   "cell_type": "code",
   "execution_count": 34,
   "id": "4876c382",
   "metadata": {},
   "outputs": [
    {
     "name": "stdout",
     "output_type": "stream",
     "text": [
      "grade\n",
      "A    432929\n",
      "B    663203\n",
      "C    649424\n",
      "D    323733\n",
      "E    135103\n",
      "F     41553\n",
      "G     11974\n",
      "Name: count, dtype: int64\n",
      "sub_grade\n",
      "A1     86787\n",
      "A2     69550\n",
      "A3     73171\n",
      "A4     95855\n",
      "A5    107566\n",
      "B1    125289\n",
      "B2    126566\n",
      "B3    131441\n",
      "B4    139717\n",
      "B5    140190\n",
      "C1    145781\n",
      "C2    130973\n",
      "C3    129064\n",
      "C4    126983\n",
      "C5    116623\n",
      "D1     81665\n",
      "D2     72766\n",
      "D3     64675\n",
      "D4     56742\n",
      "D5     47885\n",
      "E1     33457\n",
      "E2     29792\n",
      "E3     26596\n",
      "E4     22666\n",
      "E5     22592\n",
      "F1     13350\n",
      "F2      9248\n",
      "F3      7742\n",
      "F4      6082\n",
      "F5      5131\n",
      "G1      4070\n",
      "G2      2659\n",
      "G3      2064\n",
      "G4      1669\n",
      "G5      1512\n",
      "Name: count, dtype: int64\n",
      "home_ownership\n",
      "ANY             996\n",
      "MORTGAGE    1110194\n",
      "NONE             49\n",
      "OTHER           144\n",
      "OWN          252870\n",
      "RENT         893666\n",
      "Name: count, dtype: int64\n",
      "verification_status\n",
      "Not Verified       742974\n",
      "Source Verified    885941\n",
      "Verified           629004\n",
      "Name: count, dtype: int64\n",
      "purpose\n",
      "car                     23949\n",
      "credit_card            516631\n",
      "debt_consolidation    1276777\n",
      "educational               327\n",
      "home_improvement       150243\n",
      "house                   14092\n",
      "major_purchase          50322\n",
      "medical                 27430\n",
      "moving                  15357\n",
      "other                  139016\n",
      "renewable_energy         1442\n",
      "small_business          24528\n",
      "vacation                15506\n",
      "wedding                  2299\n",
      "Name: count, dtype: int64\n",
      "initial_list_status\n",
      "f     722452\n",
      "w    1535467\n",
      "Name: count, dtype: int64\n",
      "application_type\n",
      "Individual    2137209\n",
      "Joint App      120710\n",
      "Name: count, dtype: int64\n",
      "disbursement_method\n",
      "Cash         2179797\n",
      "DirectPay      78122\n",
      "Name: count, dtype: int64\n"
     ]
    }
   ],
   "source": [
    "for col in data.select_dtypes(include = [\"object\"]).columns:\n",
    "    print(data[col].value_counts().sort_index())"
   ]
  },
  {
   "cell_type": "markdown",
   "id": "adb7c04c",
   "metadata": {},
   "source": [
    "Observations:\n",
    "Due to a Huge Number of Unique Values Appearing in sub_grade and it is already hierarchically grouped via grade, the column is redundant and will be dropped from the dataset"
   ]
  },
  {
   "cell_type": "code",
   "execution_count": 35,
   "id": "e0a47983",
   "metadata": {},
   "outputs": [],
   "source": [
    "data.drop(\"sub_grade\", axis = 1, inplace = True)"
   ]
  },
  {
   "cell_type": "markdown",
   "id": "088f7163",
   "metadata": {},
   "source": [
    "Using WoE & IV for categorical features¶"
   ]
  },
  {
   "cell_type": "code",
   "execution_count": 36,
   "id": "d3db1d14",
   "metadata": {},
   "outputs": [],
   "source": [
    "def process_categorical_columns(data, categorical_cols, target_col, woe_table = None, iv_summary = None, append = False):\n",
    "\n",
    "    if append and (woe_table is None or iv_summary is None):\n",
    "        raise ValueError(\"Existing tables must be provided when append is set to True.\")\n",
    "    \n",
    "    if not append:\n",
    "        woe_table = pd.DataFrame()\n",
    "        iv_summary = pd.DataFrame()\n",
    "\n",
    "    new_woe_results = []\n",
    "    new_summary = []\n",
    "\n",
    "    for col in categorical_cols:\n",
    "        data[col] = data[col].fillna(\"NaN\")\n",
    "\n",
    "        stats = data.groupby(col).agg(\n",
    "            event_count = (target_col,  \"sum\"),\n",
    "            total_count = (target_col, \"count\")\n",
    "        ).reset_index()\n",
    "        \n",
    "        stats[\"non_event_count\"] = stats[\"total_count\"] - stats[\"event_count\"]\n",
    "        total_events = stats[\"event_count\"].sum()\n",
    "        total_non_events = stats[\"non_event_count\"].sum()\n",
    "\n",
    "        stats[\"event_rate\"] = stats[\"event_count\"] / (total_events + 1e-6)\n",
    "        stats[\"non_event_rate\"] = stats[\"non_event_count\"] / (total_non_events + 1e-6)\n",
    "\n",
    "        stats[\"woe\"] = np.log((stats[\"non_event_rate\"]+ 1e-6) / (stats[\"event_rate\"] + 1e-6))\n",
    "        stats[\"iv\"] = (stats[\"non_event_rate\"] - stats[\"event_rate\"]) * stats[\"woe\"]\n",
    "        total_iv = stats['iv'].sum()\n",
    "\n",
    "        stats[\"name\"] = col\n",
    "        stats.rename(columns = {col: \"sub_name\"}, inplace = True)\n",
    "\n",
    "        stats = stats[['name', 'sub_name', 'event_count', 'total_count', 'non_event_count', \n",
    "                       'event_rate', 'non_event_rate', 'woe', 'iv']]\n",
    "        \n",
    "        new_woe_results.append(stats)\n",
    "        new_summary.append({\"Column\": col, \"IV\": total_iv})\n",
    "    \n",
    "    new_woe_table = pd.concat(new_woe_results, ignore_index = True)\n",
    "    new_iv_summary = pd.DataFrame(new_summary).sort_values(by = \"IV\", ascending = False)\n",
    "\n",
    "    if append:\n",
    "        woe_table = pd.concat([woe_table, new_woe_table], ignore_index =  True)\n",
    "        iv_summary = pd.concat([iv_summary, new_iv_summary], ignore_index = True).sort_values(by = \"IV\", ascending = False)\n",
    "    else:\n",
    "        woe_table = new_woe_table\n",
    "        iv_summary = new_iv_summary\n",
    "    \n",
    "\n",
    "    return woe_table, iv_summary\n"
   ]
  },
  {
   "cell_type": "code",
   "execution_count": 37,
   "id": "0bef336e",
   "metadata": {},
   "outputs": [],
   "source": [
    "categorical_cols = data.select_dtypes(include = [\"object\"]).columns\n",
    "\n",
    "woe_table, iv_summary = process_categorical_columns(data, categorical_cols, \"loan_status_new\")"
   ]
  },
  {
   "cell_type": "code",
   "execution_count": 38,
   "id": "906b7f34",
   "metadata": {},
   "outputs": [
    {
     "data": {
      "text/html": [
       "<div>\n",
       "<style scoped>\n",
       "    .dataframe tbody tr th:only-of-type {\n",
       "        vertical-align: middle;\n",
       "    }\n",
       "\n",
       "    .dataframe tbody tr th {\n",
       "        vertical-align: top;\n",
       "    }\n",
       "\n",
       "    .dataframe thead th {\n",
       "        text-align: right;\n",
       "    }\n",
       "</style>\n",
       "<table border=\"1\" class=\"dataframe\">\n",
       "  <thead>\n",
       "    <tr style=\"text-align: right;\">\n",
       "      <th></th>\n",
       "      <th>Column</th>\n",
       "      <th>IV</th>\n",
       "    </tr>\n",
       "  </thead>\n",
       "  <tbody>\n",
       "    <tr>\n",
       "      <th>0</th>\n",
       "      <td>grade</td>\n",
       "      <td>0.479653</td>\n",
       "    </tr>\n",
       "    <tr>\n",
       "      <th>1</th>\n",
       "      <td>verification_status</td>\n",
       "      <td>0.085739</td>\n",
       "    </tr>\n",
       "    <tr>\n",
       "      <th>2</th>\n",
       "      <td>disbursement_method</td>\n",
       "      <td>0.060555</td>\n",
       "    </tr>\n",
       "    <tr>\n",
       "      <th>3</th>\n",
       "      <td>initial_list_status</td>\n",
       "      <td>0.034924</td>\n",
       "    </tr>\n",
       "    <tr>\n",
       "      <th>4</th>\n",
       "      <td>home_ownership</td>\n",
       "      <td>0.024762</td>\n",
       "    </tr>\n",
       "    <tr>\n",
       "      <th>5</th>\n",
       "      <td>purpose</td>\n",
       "      <td>0.023014</td>\n",
       "    </tr>\n",
       "    <tr>\n",
       "      <th>6</th>\n",
       "      <td>application_type</td>\n",
       "      <td>0.019782</td>\n",
       "    </tr>\n",
       "  </tbody>\n",
       "</table>\n",
       "</div>"
      ],
      "text/plain": [
       "                Column        IV\n",
       "0                grade  0.479653\n",
       "1  verification_status  0.085739\n",
       "2  disbursement_method  0.060555\n",
       "3  initial_list_status  0.034924\n",
       "4       home_ownership  0.024762\n",
       "5              purpose  0.023014\n",
       "6     application_type  0.019782"
      ]
     },
     "execution_count": 38,
     "metadata": {},
     "output_type": "execute_result"
    }
   ],
   "source": [
    "iv_summary.reset_index(drop = True, inplace = True)\n",
    "iv_summary"
   ]
  },
  {
   "cell_type": "code",
   "execution_count": 39,
   "id": "bdc7644a",
   "metadata": {},
   "outputs": [],
   "source": [
    "# Interpretation of IV:\n",
    "# < 0.02: Not Predictive\n",
    "# 0.02 - 0.1: Weak Predictive Power\n",
    "# 0.1 - 0.3: Medium Predictive Power\n",
    "# 0.3+: Strong Predictive Power\n",
    "# IV > 0.5: Suspiciously strong — Could indicate overfitting or data issues."
   ]
  },
  {
   "cell_type": "markdown",
   "id": "bd71d20b",
   "metadata": {},
   "source": [
    "Dropping Application_type Column"
   ]
  },
  {
   "cell_type": "code",
   "execution_count": 40,
   "id": "085a1dec",
   "metadata": {},
   "outputs": [],
   "source": [
    "data.drop(\"application_type\", axis = 1, inplace = True)"
   ]
  },
  {
   "cell_type": "code",
   "execution_count": 41,
   "id": "2a560060",
   "metadata": {},
   "outputs": [
    {
     "name": "stdout",
     "output_type": "stream",
     "text": [
      "WoE Table for Grade:\n"
     ]
    },
    {
     "data": {
      "text/html": [
       "<div>\n",
       "<style scoped>\n",
       "    .dataframe tbody tr th:only-of-type {\n",
       "        vertical-align: middle;\n",
       "    }\n",
       "\n",
       "    .dataframe tbody tr th {\n",
       "        vertical-align: top;\n",
       "    }\n",
       "\n",
       "    .dataframe thead th {\n",
       "        text-align: right;\n",
       "    }\n",
       "</style>\n",
       "<table border=\"1\" class=\"dataframe\">\n",
       "  <thead>\n",
       "    <tr style=\"text-align: right;\">\n",
       "      <th></th>\n",
       "      <th>name</th>\n",
       "      <th>sub_name</th>\n",
       "      <th>event_count</th>\n",
       "      <th>total_count</th>\n",
       "      <th>non_event_count</th>\n",
       "      <th>event_rate</th>\n",
       "      <th>non_event_rate</th>\n",
       "      <th>woe</th>\n",
       "      <th>iv</th>\n",
       "    </tr>\n",
       "  </thead>\n",
       "  <tbody>\n",
       "    <tr>\n",
       "      <th>0</th>\n",
       "      <td>grade</td>\n",
       "      <td>A</td>\n",
       "      <td>417580.0</td>\n",
       "      <td>432929</td>\n",
       "      <td>15349.0</td>\n",
       "      <td>0.211905</td>\n",
       "      <td>0.053421</td>\n",
       "      <td>-1.377916</td>\n",
       "      <td>0.218377</td>\n",
       "    </tr>\n",
       "    <tr>\n",
       "      <th>1</th>\n",
       "      <td>grade</td>\n",
       "      <td>B</td>\n",
       "      <td>606538.0</td>\n",
       "      <td>663203</td>\n",
       "      <td>56665.0</td>\n",
       "      <td>0.307794</td>\n",
       "      <td>0.197219</td>\n",
       "      <td>-0.445113</td>\n",
       "      <td>0.049218</td>\n",
       "    </tr>\n",
       "    <tr>\n",
       "      <th>2</th>\n",
       "      <td>grade</td>\n",
       "      <td>C</td>\n",
       "      <td>557186.0</td>\n",
       "      <td>649424</td>\n",
       "      <td>92238.0</td>\n",
       "      <td>0.282750</td>\n",
       "      <td>0.321029</td>\n",
       "      <td>0.126969</td>\n",
       "      <td>0.004860</td>\n",
       "    </tr>\n",
       "    <tr>\n",
       "      <th>3</th>\n",
       "      <td>grade</td>\n",
       "      <td>D</td>\n",
       "      <td>258470.0</td>\n",
       "      <td>323733</td>\n",
       "      <td>65263.0</td>\n",
       "      <td>0.131163</td>\n",
       "      <td>0.227144</td>\n",
       "      <td>0.549139</td>\n",
       "      <td>0.052707</td>\n",
       "    </tr>\n",
       "    <tr>\n",
       "      <th>4</th>\n",
       "      <td>grade</td>\n",
       "      <td>E</td>\n",
       "      <td>97174.0</td>\n",
       "      <td>135103</td>\n",
       "      <td>37929.0</td>\n",
       "      <td>0.049312</td>\n",
       "      <td>0.132010</td>\n",
       "      <td>0.984696</td>\n",
       "      <td>0.081432</td>\n",
       "    </tr>\n",
       "    <tr>\n",
       "      <th>5</th>\n",
       "      <td>grade</td>\n",
       "      <td>F</td>\n",
       "      <td>26456.0</td>\n",
       "      <td>41553</td>\n",
       "      <td>15097.0</td>\n",
       "      <td>0.013425</td>\n",
       "      <td>0.052544</td>\n",
       "      <td>1.364454</td>\n",
       "      <td>0.053376</td>\n",
       "    </tr>\n",
       "    <tr>\n",
       "      <th>6</th>\n",
       "      <td>grade</td>\n",
       "      <td>G</td>\n",
       "      <td>7195.0</td>\n",
       "      <td>11974</td>\n",
       "      <td>4779.0</td>\n",
       "      <td>0.003651</td>\n",
       "      <td>0.016633</td>\n",
       "      <td>1.516128</td>\n",
       "      <td>0.019682</td>\n",
       "    </tr>\n",
       "  </tbody>\n",
       "</table>\n",
       "</div>"
      ],
      "text/plain": [
       "    name sub_name  event_count  total_count  non_event_count  event_rate  \\\n",
       "0  grade        A     417580.0       432929          15349.0    0.211905   \n",
       "1  grade        B     606538.0       663203          56665.0    0.307794   \n",
       "2  grade        C     557186.0       649424          92238.0    0.282750   \n",
       "3  grade        D     258470.0       323733          65263.0    0.131163   \n",
       "4  grade        E      97174.0       135103          37929.0    0.049312   \n",
       "5  grade        F      26456.0        41553          15097.0    0.013425   \n",
       "6  grade        G       7195.0        11974           4779.0    0.003651   \n",
       "\n",
       "   non_event_rate       woe        iv  \n",
       "0        0.053421 -1.377916  0.218377  \n",
       "1        0.197219 -0.445113  0.049218  \n",
       "2        0.321029  0.126969  0.004860  \n",
       "3        0.227144  0.549139  0.052707  \n",
       "4        0.132010  0.984696  0.081432  \n",
       "5        0.052544  1.364454  0.053376  \n",
       "6        0.016633  1.516128  0.019682  "
      ]
     },
     "execution_count": 41,
     "metadata": {},
     "output_type": "execute_result"
    }
   ],
   "source": [
    "print(\"WoE Table for Grade:\")\n",
    "woe_table[woe_table[\"name\"] == \"grade\"]\n"
   ]
  },
  {
   "cell_type": "code",
   "execution_count": 42,
   "id": "e513abca",
   "metadata": {},
   "outputs": [
    {
     "name": "stdout",
     "output_type": "stream",
     "text": [
      "WoE Table for Verification_Status:\n"
     ]
    },
    {
     "data": {
      "text/html": [
       "<div>\n",
       "<style scoped>\n",
       "    .dataframe tbody tr th:only-of-type {\n",
       "        vertical-align: middle;\n",
       "    }\n",
       "\n",
       "    .dataframe tbody tr th {\n",
       "        vertical-align: top;\n",
       "    }\n",
       "\n",
       "    .dataframe thead th {\n",
       "        text-align: right;\n",
       "    }\n",
       "</style>\n",
       "<table border=\"1\" class=\"dataframe\">\n",
       "  <thead>\n",
       "    <tr style=\"text-align: right;\">\n",
       "      <th></th>\n",
       "      <th>name</th>\n",
       "      <th>sub_name</th>\n",
       "      <th>event_count</th>\n",
       "      <th>total_count</th>\n",
       "      <th>non_event_count</th>\n",
       "      <th>event_rate</th>\n",
       "      <th>non_event_rate</th>\n",
       "      <th>woe</th>\n",
       "      <th>iv</th>\n",
       "    </tr>\n",
       "  </thead>\n",
       "  <tbody>\n",
       "    <tr>\n",
       "      <th>13</th>\n",
       "      <td>verification_status</td>\n",
       "      <td>Not Verified</td>\n",
       "      <td>678532.0</td>\n",
       "      <td>742974</td>\n",
       "      <td>64442.0</td>\n",
       "      <td>0.344328</td>\n",
       "      <td>0.224287</td>\n",
       "      <td>-0.428668</td>\n",
       "      <td>0.051458</td>\n",
       "    </tr>\n",
       "    <tr>\n",
       "      <th>14</th>\n",
       "      <td>verification_status</td>\n",
       "      <td>Source Verified</td>\n",
       "      <td>768830.0</td>\n",
       "      <td>885941</td>\n",
       "      <td>117111.0</td>\n",
       "      <td>0.390150</td>\n",
       "      <td>0.407598</td>\n",
       "      <td>0.043748</td>\n",
       "      <td>0.000763</td>\n",
       "    </tr>\n",
       "    <tr>\n",
       "      <th>15</th>\n",
       "      <td>verification_status</td>\n",
       "      <td>Verified</td>\n",
       "      <td>523237.0</td>\n",
       "      <td>629004</td>\n",
       "      <td>105767.0</td>\n",
       "      <td>0.265522</td>\n",
       "      <td>0.368116</td>\n",
       "      <td>0.326699</td>\n",
       "      <td>0.033517</td>\n",
       "    </tr>\n",
       "  </tbody>\n",
       "</table>\n",
       "</div>"
      ],
      "text/plain": [
       "                   name         sub_name  event_count  total_count  \\\n",
       "13  verification_status     Not Verified     678532.0       742974   \n",
       "14  verification_status  Source Verified     768830.0       885941   \n",
       "15  verification_status         Verified     523237.0       629004   \n",
       "\n",
       "    non_event_count  event_rate  non_event_rate       woe        iv  \n",
       "13          64442.0    0.344328        0.224287 -0.428668  0.051458  \n",
       "14         117111.0    0.390150        0.407598  0.043748  0.000763  \n",
       "15         105767.0    0.265522        0.368116  0.326699  0.033517  "
      ]
     },
     "execution_count": 42,
     "metadata": {},
     "output_type": "execute_result"
    }
   ],
   "source": [
    "print(\"WoE Table for Verification_Status:\")\n",
    "woe_table[woe_table[\"name\"] == \"verification_status\"]\n"
   ]
  },
  {
   "cell_type": "code",
   "execution_count": 43,
   "id": "150c5140",
   "metadata": {},
   "outputs": [
    {
     "name": "stdout",
     "output_type": "stream",
     "text": [
      "WoE Table for Disbursement_Method:\n"
     ]
    },
    {
     "data": {
      "text/html": [
       "<div>\n",
       "<style scoped>\n",
       "    .dataframe tbody tr th:only-of-type {\n",
       "        vertical-align: middle;\n",
       "    }\n",
       "\n",
       "    .dataframe tbody tr th {\n",
       "        vertical-align: top;\n",
       "    }\n",
       "\n",
       "    .dataframe thead th {\n",
       "        text-align: right;\n",
       "    }\n",
       "</style>\n",
       "<table border=\"1\" class=\"dataframe\">\n",
       "  <thead>\n",
       "    <tr style=\"text-align: right;\">\n",
       "      <th></th>\n",
       "      <th>name</th>\n",
       "      <th>sub_name</th>\n",
       "      <th>event_count</th>\n",
       "      <th>total_count</th>\n",
       "      <th>non_event_count</th>\n",
       "      <th>event_rate</th>\n",
       "      <th>non_event_rate</th>\n",
       "      <th>woe</th>\n",
       "      <th>iv</th>\n",
       "    </tr>\n",
       "  </thead>\n",
       "  <tbody>\n",
       "    <tr>\n",
       "      <th>34</th>\n",
       "      <td>disbursement_method</td>\n",
       "      <td>Cash</td>\n",
       "      <td>1894264.0</td>\n",
       "      <td>2179797</td>\n",
       "      <td>285533.0</td>\n",
       "      <td>0.961263</td>\n",
       "      <td>0.99378</td>\n",
       "      <td>0.033268</td>\n",
       "      <td>0.001082</td>\n",
       "    </tr>\n",
       "    <tr>\n",
       "      <th>35</th>\n",
       "      <td>disbursement_method</td>\n",
       "      <td>DirectPay</td>\n",
       "      <td>76335.0</td>\n",
       "      <td>78122</td>\n",
       "      <td>1787.0</td>\n",
       "      <td>0.038737</td>\n",
       "      <td>0.00622</td>\n",
       "      <td>-1.828962</td>\n",
       "      <td>0.059473</td>\n",
       "    </tr>\n",
       "  </tbody>\n",
       "</table>\n",
       "</div>"
      ],
      "text/plain": [
       "                   name   sub_name  event_count  total_count  non_event_count  \\\n",
       "34  disbursement_method       Cash    1894264.0      2179797         285533.0   \n",
       "35  disbursement_method  DirectPay      76335.0        78122           1787.0   \n",
       "\n",
       "    event_rate  non_event_rate       woe        iv  \n",
       "34    0.961263         0.99378  0.033268  0.001082  \n",
       "35    0.038737         0.00622 -1.828962  0.059473  "
      ]
     },
     "execution_count": 43,
     "metadata": {},
     "output_type": "execute_result"
    }
   ],
   "source": [
    "print(\"WoE Table for Disbursement_Method:\")\n",
    "woe_table[woe_table[\"name\"] == \"disbursement_method\"]"
   ]
  },
  {
   "cell_type": "code",
   "execution_count": 44,
   "id": "ec18678c",
   "metadata": {},
   "outputs": [
    {
     "name": "stdout",
     "output_type": "stream",
     "text": [
      "WoE Table for initial_list_status:\n"
     ]
    },
    {
     "data": {
      "text/html": [
       "<div>\n",
       "<style scoped>\n",
       "    .dataframe tbody tr th:only-of-type {\n",
       "        vertical-align: middle;\n",
       "    }\n",
       "\n",
       "    .dataframe tbody tr th {\n",
       "        vertical-align: top;\n",
       "    }\n",
       "\n",
       "    .dataframe thead th {\n",
       "        text-align: right;\n",
       "    }\n",
       "</style>\n",
       "<table border=\"1\" class=\"dataframe\">\n",
       "  <thead>\n",
       "    <tr style=\"text-align: right;\">\n",
       "      <th></th>\n",
       "      <th>name</th>\n",
       "      <th>sub_name</th>\n",
       "      <th>event_count</th>\n",
       "      <th>total_count</th>\n",
       "      <th>non_event_count</th>\n",
       "      <th>event_rate</th>\n",
       "      <th>non_event_rate</th>\n",
       "      <th>woe</th>\n",
       "      <th>iv</th>\n",
       "    </tr>\n",
       "  </thead>\n",
       "  <tbody>\n",
       "    <tr>\n",
       "      <th>30</th>\n",
       "      <td>initial_list_status</td>\n",
       "      <td>f</td>\n",
       "      <td>608167.0</td>\n",
       "      <td>722452</td>\n",
       "      <td>114285.0</td>\n",
       "      <td>0.30862</td>\n",
       "      <td>0.397762</td>\n",
       "      <td>0.253741</td>\n",
       "      <td>0.022619</td>\n",
       "    </tr>\n",
       "    <tr>\n",
       "      <th>31</th>\n",
       "      <td>initial_list_status</td>\n",
       "      <td>w</td>\n",
       "      <td>1362432.0</td>\n",
       "      <td>1535467</td>\n",
       "      <td>173035.0</td>\n",
       "      <td>0.69138</td>\n",
       "      <td>0.602238</td>\n",
       "      <td>-0.138036</td>\n",
       "      <td>0.012305</td>\n",
       "    </tr>\n",
       "  </tbody>\n",
       "</table>\n",
       "</div>"
      ],
      "text/plain": [
       "                   name sub_name  event_count  total_count  non_event_count  \\\n",
       "30  initial_list_status        f     608167.0       722452         114285.0   \n",
       "31  initial_list_status        w    1362432.0      1535467         173035.0   \n",
       "\n",
       "    event_rate  non_event_rate       woe        iv  \n",
       "30     0.30862        0.397762  0.253741  0.022619  \n",
       "31     0.69138        0.602238 -0.138036  0.012305  "
      ]
     },
     "execution_count": 44,
     "metadata": {},
     "output_type": "execute_result"
    }
   ],
   "source": [
    "print(\"WoE Table for initial_list_status:\")\n",
    "woe_table[woe_table[\"name\"] == \"initial_list_status\"]"
   ]
  },
  {
   "cell_type": "code",
   "execution_count": 45,
   "id": "b9d7a12c",
   "metadata": {},
   "outputs": [
    {
     "name": "stdout",
     "output_type": "stream",
     "text": [
      "WoE Table for Home_Ownership:\n"
     ]
    },
    {
     "data": {
      "text/html": [
       "<div>\n",
       "<style scoped>\n",
       "    .dataframe tbody tr th:only-of-type {\n",
       "        vertical-align: middle;\n",
       "    }\n",
       "\n",
       "    .dataframe tbody tr th {\n",
       "        vertical-align: top;\n",
       "    }\n",
       "\n",
       "    .dataframe thead th {\n",
       "        text-align: right;\n",
       "    }\n",
       "</style>\n",
       "<table border=\"1\" class=\"dataframe\">\n",
       "  <thead>\n",
       "    <tr style=\"text-align: right;\">\n",
       "      <th></th>\n",
       "      <th>name</th>\n",
       "      <th>sub_name</th>\n",
       "      <th>event_count</th>\n",
       "      <th>total_count</th>\n",
       "      <th>non_event_count</th>\n",
       "      <th>event_rate</th>\n",
       "      <th>non_event_rate</th>\n",
       "      <th>woe</th>\n",
       "      <th>iv</th>\n",
       "    </tr>\n",
       "  </thead>\n",
       "  <tbody>\n",
       "    <tr>\n",
       "      <th>7</th>\n",
       "      <td>home_ownership</td>\n",
       "      <td>ANY</td>\n",
       "      <td>928.0</td>\n",
       "      <td>996</td>\n",
       "      <td>68.0</td>\n",
       "      <td>0.000471</td>\n",
       "      <td>0.000237</td>\n",
       "      <td>-0.685933</td>\n",
       "      <td>1.606817e-04</td>\n",
       "    </tr>\n",
       "    <tr>\n",
       "      <th>8</th>\n",
       "      <td>home_ownership</td>\n",
       "      <td>MORTGAGE</td>\n",
       "      <td>987389.0</td>\n",
       "      <td>1110194</td>\n",
       "      <td>122805.0</td>\n",
       "      <td>0.501060</td>\n",
       "      <td>0.427415</td>\n",
       "      <td>-0.158970</td>\n",
       "      <td>1.170731e-02</td>\n",
       "    </tr>\n",
       "    <tr>\n",
       "      <th>9</th>\n",
       "      <td>home_ownership</td>\n",
       "      <td>NONE</td>\n",
       "      <td>42.0</td>\n",
       "      <td>49</td>\n",
       "      <td>7.0</td>\n",
       "      <td>0.000021</td>\n",
       "      <td>0.000024</td>\n",
       "      <td>0.128111</td>\n",
       "      <td>3.907079e-07</td>\n",
       "    </tr>\n",
       "    <tr>\n",
       "      <th>10</th>\n",
       "      <td>home_ownership</td>\n",
       "      <td>OTHER</td>\n",
       "      <td>117.0</td>\n",
       "      <td>144</td>\n",
       "      <td>27.0</td>\n",
       "      <td>0.000059</td>\n",
       "      <td>0.000094</td>\n",
       "      <td>0.453042</td>\n",
       "      <td>1.567483e-05</td>\n",
       "    </tr>\n",
       "    <tr>\n",
       "      <th>11</th>\n",
       "      <td>home_ownership</td>\n",
       "      <td>OWN</td>\n",
       "      <td>220666.0</td>\n",
       "      <td>252870</td>\n",
       "      <td>32204.0</td>\n",
       "      <td>0.111979</td>\n",
       "      <td>0.112084</td>\n",
       "      <td>0.000937</td>\n",
       "      <td>9.829256e-08</td>\n",
       "    </tr>\n",
       "    <tr>\n",
       "      <th>12</th>\n",
       "      <td>home_ownership</td>\n",
       "      <td>RENT</td>\n",
       "      <td>761457.0</td>\n",
       "      <td>893666</td>\n",
       "      <td>132209.0</td>\n",
       "      <td>0.386409</td>\n",
       "      <td>0.460145</td>\n",
       "      <td>0.174646</td>\n",
       "      <td>1.287781e-02</td>\n",
       "    </tr>\n",
       "  </tbody>\n",
       "</table>\n",
       "</div>"
      ],
      "text/plain": [
       "              name  sub_name  event_count  total_count  non_event_count  \\\n",
       "7   home_ownership       ANY        928.0          996             68.0   \n",
       "8   home_ownership  MORTGAGE     987389.0      1110194         122805.0   \n",
       "9   home_ownership      NONE         42.0           49              7.0   \n",
       "10  home_ownership     OTHER        117.0          144             27.0   \n",
       "11  home_ownership       OWN     220666.0       252870          32204.0   \n",
       "12  home_ownership      RENT     761457.0       893666         132209.0   \n",
       "\n",
       "    event_rate  non_event_rate       woe            iv  \n",
       "7     0.000471        0.000237 -0.685933  1.606817e-04  \n",
       "8     0.501060        0.427415 -0.158970  1.170731e-02  \n",
       "9     0.000021        0.000024  0.128111  3.907079e-07  \n",
       "10    0.000059        0.000094  0.453042  1.567483e-05  \n",
       "11    0.111979        0.112084  0.000937  9.829256e-08  \n",
       "12    0.386409        0.460145  0.174646  1.287781e-02  "
      ]
     },
     "execution_count": 45,
     "metadata": {},
     "output_type": "execute_result"
    }
   ],
   "source": [
    "print(\"WoE Table for Home_Ownership:\")\n",
    "woe_table[woe_table[\"name\"] == \"home_ownership\"]"
   ]
  },
  {
   "cell_type": "code",
   "execution_count": 46,
   "id": "b573be61",
   "metadata": {},
   "outputs": [
    {
     "name": "stdout",
     "output_type": "stream",
     "text": [
      "WoE Table for Purpose:\n"
     ]
    },
    {
     "data": {
      "text/html": [
       "<div>\n",
       "<style scoped>\n",
       "    .dataframe tbody tr th:only-of-type {\n",
       "        vertical-align: middle;\n",
       "    }\n",
       "\n",
       "    .dataframe tbody tr th {\n",
       "        vertical-align: top;\n",
       "    }\n",
       "\n",
       "    .dataframe thead th {\n",
       "        text-align: right;\n",
       "    }\n",
       "</style>\n",
       "<table border=\"1\" class=\"dataframe\">\n",
       "  <thead>\n",
       "    <tr style=\"text-align: right;\">\n",
       "      <th></th>\n",
       "      <th>name</th>\n",
       "      <th>sub_name</th>\n",
       "      <th>event_count</th>\n",
       "      <th>total_count</th>\n",
       "      <th>non_event_count</th>\n",
       "      <th>event_rate</th>\n",
       "      <th>non_event_rate</th>\n",
       "      <th>woe</th>\n",
       "      <th>iv</th>\n",
       "    </tr>\n",
       "  </thead>\n",
       "  <tbody>\n",
       "    <tr>\n",
       "      <th>16</th>\n",
       "      <td>purpose</td>\n",
       "      <td>car</td>\n",
       "      <td>21637.0</td>\n",
       "      <td>23949</td>\n",
       "      <td>2312.0</td>\n",
       "      <td>0.010980</td>\n",
       "      <td>0.008047</td>\n",
       "      <td>-0.310762</td>\n",
       "      <td>0.000912</td>\n",
       "    </tr>\n",
       "    <tr>\n",
       "      <th>17</th>\n",
       "      <td>purpose</td>\n",
       "      <td>credit_card</td>\n",
       "      <td>463192.0</td>\n",
       "      <td>516631</td>\n",
       "      <td>53439.0</td>\n",
       "      <td>0.235051</td>\n",
       "      <td>0.185991</td>\n",
       "      <td>-0.234103</td>\n",
       "      <td>0.011485</td>\n",
       "    </tr>\n",
       "    <tr>\n",
       "      <th>18</th>\n",
       "      <td>purpose</td>\n",
       "      <td>debt_consolidation</td>\n",
       "      <td>1100905.0</td>\n",
       "      <td>1276777</td>\n",
       "      <td>175872.0</td>\n",
       "      <td>0.558665</td>\n",
       "      <td>0.612112</td>\n",
       "      <td>0.091365</td>\n",
       "      <td>0.004883</td>\n",
       "    </tr>\n",
       "    <tr>\n",
       "      <th>19</th>\n",
       "      <td>purpose</td>\n",
       "      <td>educational</td>\n",
       "      <td>271.0</td>\n",
       "      <td>327</td>\n",
       "      <td>56.0</td>\n",
       "      <td>0.000138</td>\n",
       "      <td>0.000195</td>\n",
       "      <td>0.346601</td>\n",
       "      <td>0.000020</td>\n",
       "    </tr>\n",
       "    <tr>\n",
       "      <th>20</th>\n",
       "      <td>purpose</td>\n",
       "      <td>home_improvement</td>\n",
       "      <td>133457.0</td>\n",
       "      <td>150243</td>\n",
       "      <td>16786.0</td>\n",
       "      <td>0.067724</td>\n",
       "      <td>0.058423</td>\n",
       "      <td>-0.147736</td>\n",
       "      <td>0.001374</td>\n",
       "    </tr>\n",
       "    <tr>\n",
       "      <th>21</th>\n",
       "      <td>purpose</td>\n",
       "      <td>house</td>\n",
       "      <td>12333.0</td>\n",
       "      <td>14092</td>\n",
       "      <td>1759.0</td>\n",
       "      <td>0.006259</td>\n",
       "      <td>0.006122</td>\n",
       "      <td>-0.022033</td>\n",
       "      <td>0.000003</td>\n",
       "    </tr>\n",
       "    <tr>\n",
       "      <th>22</th>\n",
       "      <td>purpose</td>\n",
       "      <td>major_purchase</td>\n",
       "      <td>44345.0</td>\n",
       "      <td>50322</td>\n",
       "      <td>5977.0</td>\n",
       "      <td>0.022503</td>\n",
       "      <td>0.020803</td>\n",
       "      <td>-0.078581</td>\n",
       "      <td>0.000134</td>\n",
       "    </tr>\n",
       "    <tr>\n",
       "      <th>23</th>\n",
       "      <td>purpose</td>\n",
       "      <td>medical</td>\n",
       "      <td>23766.0</td>\n",
       "      <td>27430</td>\n",
       "      <td>3664.0</td>\n",
       "      <td>0.012060</td>\n",
       "      <td>0.012752</td>\n",
       "      <td>0.055791</td>\n",
       "      <td>0.000039</td>\n",
       "    </tr>\n",
       "    <tr>\n",
       "      <th>24</th>\n",
       "      <td>purpose</td>\n",
       "      <td>moving</td>\n",
       "      <td>12995.0</td>\n",
       "      <td>15357</td>\n",
       "      <td>2362.0</td>\n",
       "      <td>0.006594</td>\n",
       "      <td>0.008221</td>\n",
       "      <td>0.220410</td>\n",
       "      <td>0.000358</td>\n",
       "    </tr>\n",
       "    <tr>\n",
       "      <th>25</th>\n",
       "      <td>purpose</td>\n",
       "      <td>other</td>\n",
       "      <td>121193.0</td>\n",
       "      <td>139016</td>\n",
       "      <td>17823.0</td>\n",
       "      <td>0.061501</td>\n",
       "      <td>0.062032</td>\n",
       "      <td>0.008602</td>\n",
       "      <td>0.000005</td>\n",
       "    </tr>\n",
       "    <tr>\n",
       "      <th>26</th>\n",
       "      <td>purpose</td>\n",
       "      <td>renewable_energy</td>\n",
       "      <td>1209.0</td>\n",
       "      <td>1442</td>\n",
       "      <td>233.0</td>\n",
       "      <td>0.000614</td>\n",
       "      <td>0.000811</td>\n",
       "      <td>0.278590</td>\n",
       "      <td>0.000055</td>\n",
       "    </tr>\n",
       "    <tr>\n",
       "      <th>27</th>\n",
       "      <td>purpose</td>\n",
       "      <td>small_business</td>\n",
       "      <td>19651.0</td>\n",
       "      <td>24528</td>\n",
       "      <td>4877.0</td>\n",
       "      <td>0.009972</td>\n",
       "      <td>0.016974</td>\n",
       "      <td>0.531857</td>\n",
       "      <td>0.003724</td>\n",
       "    </tr>\n",
       "    <tr>\n",
       "      <th>28</th>\n",
       "      <td>purpose</td>\n",
       "      <td>vacation</td>\n",
       "      <td>13625.0</td>\n",
       "      <td>15506</td>\n",
       "      <td>1881.0</td>\n",
       "      <td>0.006914</td>\n",
       "      <td>0.006547</td>\n",
       "      <td>-0.054598</td>\n",
       "      <td>0.000020</td>\n",
       "    </tr>\n",
       "    <tr>\n",
       "      <th>29</th>\n",
       "      <td>purpose</td>\n",
       "      <td>wedding</td>\n",
       "      <td>2020.0</td>\n",
       "      <td>2299</td>\n",
       "      <td>279.0</td>\n",
       "      <td>0.001025</td>\n",
       "      <td>0.000971</td>\n",
       "      <td>-0.054091</td>\n",
       "      <td>0.000003</td>\n",
       "    </tr>\n",
       "  </tbody>\n",
       "</table>\n",
       "</div>"
      ],
      "text/plain": [
       "       name            sub_name  event_count  total_count  non_event_count  \\\n",
       "16  purpose                 car      21637.0        23949           2312.0   \n",
       "17  purpose         credit_card     463192.0       516631          53439.0   \n",
       "18  purpose  debt_consolidation    1100905.0      1276777         175872.0   \n",
       "19  purpose         educational        271.0          327             56.0   \n",
       "20  purpose    home_improvement     133457.0       150243          16786.0   \n",
       "21  purpose               house      12333.0        14092           1759.0   \n",
       "22  purpose      major_purchase      44345.0        50322           5977.0   \n",
       "23  purpose             medical      23766.0        27430           3664.0   \n",
       "24  purpose              moving      12995.0        15357           2362.0   \n",
       "25  purpose               other     121193.0       139016          17823.0   \n",
       "26  purpose    renewable_energy       1209.0         1442            233.0   \n",
       "27  purpose      small_business      19651.0        24528           4877.0   \n",
       "28  purpose            vacation      13625.0        15506           1881.0   \n",
       "29  purpose             wedding       2020.0         2299            279.0   \n",
       "\n",
       "    event_rate  non_event_rate       woe        iv  \n",
       "16    0.010980        0.008047 -0.310762  0.000912  \n",
       "17    0.235051        0.185991 -0.234103  0.011485  \n",
       "18    0.558665        0.612112  0.091365  0.004883  \n",
       "19    0.000138        0.000195  0.346601  0.000020  \n",
       "20    0.067724        0.058423 -0.147736  0.001374  \n",
       "21    0.006259        0.006122 -0.022033  0.000003  \n",
       "22    0.022503        0.020803 -0.078581  0.000134  \n",
       "23    0.012060        0.012752  0.055791  0.000039  \n",
       "24    0.006594        0.008221  0.220410  0.000358  \n",
       "25    0.061501        0.062032  0.008602  0.000005  \n",
       "26    0.000614        0.000811  0.278590  0.000055  \n",
       "27    0.009972        0.016974  0.531857  0.003724  \n",
       "28    0.006914        0.006547 -0.054598  0.000020  \n",
       "29    0.001025        0.000971 -0.054091  0.000003  "
      ]
     },
     "execution_count": 46,
     "metadata": {},
     "output_type": "execute_result"
    }
   ],
   "source": [
    "print(\"WoE Table for Purpose:\")\n",
    "woe_table[woe_table[\"name\"] == \"purpose\"]"
   ]
  },
  {
   "cell_type": "markdown",
   "id": "dd8082ec",
   "metadata": {},
   "source": [
    "From the woe_table, we can see that the both home_ownership and purpose has multiple rarely used categories. To prevent the categories from increasing model variance, it will be grouped into a single category under \"other\"."
   ]
  },
  {
   "cell_type": "code",
   "execution_count": 47,
   "id": "4d871d11",
   "metadata": {},
   "outputs": [],
   "source": [
    "home_ownership_map = {\n",
    "    \"ANY\": \"other\",\n",
    "    \"NONE\": \"other\",\n",
    "    \"MORTGAGE\": \"mortgage\",\n",
    "    \"RENT\": \"rent\",\n",
    "    \"OWN\": \"own\"\n",
    "}\n",
    "\n",
    "data[\"home_ownership\"] = data[\"home_ownership\"].map(home_ownership_map)"
   ]
  },
  {
   "cell_type": "code",
   "execution_count": 48,
   "id": "7f245c38",
   "metadata": {},
   "outputs": [
    {
     "data": {
      "text/plain": [
       "home_ownership\n",
       "mortgage    1110194\n",
       "rent         893666\n",
       "own          252870\n",
       "other          1045\n",
       "Name: count, dtype: int64"
      ]
     },
     "execution_count": 48,
     "metadata": {},
     "output_type": "execute_result"
    }
   ],
   "source": [
    "data[\"home_ownership\"].value_counts()"
   ]
  },
  {
   "cell_type": "code",
   "execution_count": 49,
   "id": "8f2050d7",
   "metadata": {},
   "outputs": [],
   "source": [
    "purpose_map = {\n",
    "    \"car\": \"car\",\n",
    "    \"wedding\": \"other\",\n",
    "    \"educational\": \"other\",\n",
    "    \"house_improvement\": \"house_improvement\",\n",
    "    \"renewable_energy\": \"other\",\n",
    "    \"vacation\": \"other\",\n",
    "    \"house\": \"house_improvement\",\n",
    "    \"small_business\": \"small_business\",\n",
    "    \"major_purchase\": \"major_purchase\",\n",
    "    \"medical\": \"other\",\n",
    "    \"moving\": \"other\",\n",
    "    \"debt_consolidation\": \"debt_consolidation\",\n",
    "    \"credit_card\": \"credit_card\"\n",
    "}\n",
    "\n",
    "data[\"purpose\"] = data[\"purpose\"].map(purpose_map)"
   ]
  },
  {
   "cell_type": "code",
   "execution_count": 50,
   "id": "1c0b05dc",
   "metadata": {},
   "outputs": [
    {
     "data": {
      "image/png": "[encoded data removed]",
      "text/plain": [
       "<Figure size 1000x600 with 1 Axes>"
      ]
     },
     "metadata": {},
     "output_type": "display_data"
    }
   ],
   "source": [
    "counts = data.groupby([\"grade\", \"loan_status_new\"]).size().unstack(fill_value = 0)\n",
    "\n",
    "counts.plot(kind = \"bar\", stacked = True, figsize = (10,6))\n",
    "\n",
    "plt.xlabel(\"Grade\")\n",
    "plt.ylabel(\"Count\")\n",
    "plt.title(\"Grade vs Loan Status Distribution\")\n",
    "plt.legend([\"Non Default(1)\", \"Default(0)\"])\n",
    "plt.show()"
   ]
  },
  {
   "cell_type": "code",
   "execution_count": 51,
   "id": "5f90f2cd",
   "metadata": {},
   "outputs": [],
   "source": [
    "counts = data.groupby([\"verification_status\", \"loan_status_new\"]).size().unstack(fill_value = 0)\n"
   ]
  },
  {
   "cell_type": "code",
   "execution_count": 52,
   "id": "87163573",
   "metadata": {},
   "outputs": [
    {
     "data": {
      "image/png": "[encoded data removed]",
      "text/plain": [
       "<Figure size 1000x600 with 1 Axes>"
      ]
     },
     "metadata": {},
     "output_type": "display_data"
    },
    {
     "data": {
      "image/png": "[encoded data removed]",
      "text/plain": [
       "<Figure size 1000x600 with 1 Axes>"
      ]
     },
     "metadata": {},
     "output_type": "display_data"
    },
    {
     "data": {
      "image/png": "[encoded data removed]",
      "text/plain": [
       "<Figure size 1000x600 with 1 Axes>"
      ]
     },
     "metadata": {},
     "output_type": "display_data"
    },
    {
     "data": {
      "image/png": "[encoded data removed]",
      "text/plain": [
       "<Figure size 1000x600 with 1 Axes>"
      ]
     },
     "metadata": {},
     "output_type": "display_data"
    },
    {
     "data": {
      "image/png": "[encoded data removed]",
      "text/plain": [
       "<Figure size 1000x600 with 1 Axes>"
      ]
     },
     "metadata": {},
     "output_type": "display_data"
    },
    {
     "data": {
      "image/png": "[encoded data removed]",
      "text/plain": [
       "<Figure size 1000x600 with 1 Axes>"
      ]
     },
     "metadata": {},
     "output_type": "display_data"
    }
   ],
   "source": [
    "list = [\"grade\", \"verification_status\", \"disbursement_method\", \"initial_list_status\", \"home_ownership\", \"purpose\"]\n",
    "\n",
    "for i in list:\n",
    "    count = data.groupby([i, \"loan_status_new\"]).size().unstack(fill_value = 0)\n",
    "    count = count[[1, 0]]\n",
    "    count.plot(kind = \"bar\", stacked = True, figsize = (10,6), color = [\"#0000FF\", \"#FF0000\"])\n",
    "\n",
    "\n",
    "    plt.xlabel(i)\n",
    "    plt.ylabel(\"Count\")\n",
    "    plt.title(f\"{i} vs Loan Status Distribution\")\n",
    "    plt.legend([\"Non Default(1)\", \"Default(0)\"])\n",
    "    plt.show()"
   ]
  },
  {
   "cell_type": "markdown",
   "id": "c7cdd80a",
   "metadata": {},
   "source": [
    "Date Features"
   ]
  },
  {
   "cell_type": "code",
   "execution_count": 53,
   "id": "634c9908",
   "metadata": {},
   "outputs": [
    {
     "data": {
      "text/html": [
       "<div>\n",
       "<style scoped>\n",
       "    .dataframe tbody tr th:only-of-type {\n",
       "        vertical-align: middle;\n",
       "    }\n",
       "\n",
       "    .dataframe tbody tr th {\n",
       "        vertical-align: top;\n",
       "    }\n",
       "\n",
       "    .dataframe thead th {\n",
       "        text-align: right;\n",
       "    }\n",
       "</style>\n",
       "<table border=\"1\" class=\"dataframe\">\n",
       "  <thead>\n",
       "    <tr style=\"text-align: right;\">\n",
       "      <th></th>\n",
       "      <th>issue_d</th>\n",
       "      <th>earliest_cr_line</th>\n",
       "      <th>last_pymnt_d</th>\n",
       "      <th>last_credit_pull_d</th>\n",
       "    </tr>\n",
       "  </thead>\n",
       "  <tbody>\n",
       "    <tr>\n",
       "      <th>0</th>\n",
       "      <td>2018-12-01</td>\n",
       "      <td>2001-04-01</td>\n",
       "      <td>2019-02-01</td>\n",
       "      <td>2019-02-01</td>\n",
       "    </tr>\n",
       "    <tr>\n",
       "      <th>1</th>\n",
       "      <td>2018-12-01</td>\n",
       "      <td>1987-06-01</td>\n",
       "      <td>2019-02-01</td>\n",
       "      <td>2019-02-01</td>\n",
       "    </tr>\n",
       "    <tr>\n",
       "      <th>2</th>\n",
       "      <td>2018-12-01</td>\n",
       "      <td>2011-04-01</td>\n",
       "      <td>2019-02-01</td>\n",
       "      <td>2019-02-01</td>\n",
       "    </tr>\n",
       "    <tr>\n",
       "      <th>3</th>\n",
       "      <td>2018-12-01</td>\n",
       "      <td>2006-02-01</td>\n",
       "      <td>2019-02-01</td>\n",
       "      <td>2019-02-01</td>\n",
       "    </tr>\n",
       "    <tr>\n",
       "      <th>4</th>\n",
       "      <td>2018-12-01</td>\n",
       "      <td>2000-12-01</td>\n",
       "      <td>2019-02-01</td>\n",
       "      <td>2019-02-01</td>\n",
       "    </tr>\n",
       "  </tbody>\n",
       "</table>\n",
       "</div>"
      ],
      "text/plain": [
       "     issue_d earliest_cr_line last_pymnt_d last_credit_pull_d\n",
       "0 2018-12-01       2001-04-01   2019-02-01         2019-02-01\n",
       "1 2018-12-01       1987-06-01   2019-02-01         2019-02-01\n",
       "2 2018-12-01       2011-04-01   2019-02-01         2019-02-01\n",
       "3 2018-12-01       2006-02-01   2019-02-01         2019-02-01\n",
       "4 2018-12-01       2000-12-01   2019-02-01         2019-02-01"
      ]
     },
     "execution_count": 53,
     "metadata": {},
     "output_type": "execute_result"
    }
   ],
   "source": [
    "date_cols = data.select_dtypes(include = [\"datetime64\"]).columns\n",
    "data[date_cols].head()"
   ]
  },
  {
   "cell_type": "code",
   "execution_count": 54,
   "id": "ad0b32e0",
   "metadata": {},
   "outputs": [
    {
     "data": {
      "text/plain": [
       "issue_d                  0\n",
       "earliest_cr_line         0\n",
       "last_pymnt_d          2414\n",
       "last_credit_pull_d      71\n",
       "dtype: int64"
      ]
     },
     "execution_count": 54,
     "metadata": {},
     "output_type": "execute_result"
    }
   ],
   "source": [
    "data[date_cols].isna().sum()"
   ]
  },
  {
   "cell_type": "markdown",
   "id": "08a9e18b",
   "metadata": {},
   "source": [
    "Replacing missing values with todays date"
   ]
  },
  {
   "cell_type": "code",
   "execution_count": 55,
   "id": "efd8db51",
   "metadata": {},
   "outputs": [
    {
     "name": "stderr",
     "output_type": "stream",
     "text": [
      "C:\\Users\\Phuah Kai Wen\\AppData\\Local\\Temp\\ipykernel_19924\\2138699267.py:2: SettingWithCopyWarning: \n",
      "A value is trying to be set on a copy of a slice from a DataFrame\n",
      "\n",
      "See the caveats in the documentation: https://pandas.pydata.org/pandas-docs/stable/user_guide/indexing.html#returning-a-view-versus-a-copy\n",
      "  data[[\"earliest_cr_line\", \"issue_d\", \"last_pymnt_d\", \"last_credit_pull_d\"]].fillna(today, inplace = True)\n"
     ]
    }
   ],
   "source": [
    "today = pd.to_datetime(\"today\")\n",
    "data[[\"earliest_cr_line\", \"issue_d\", \"last_pymnt_d\", \"last_credit_pull_d\"]].fillna(today, inplace = True)"
   ]
  },
  {
   "cell_type": "markdown",
   "id": "3fcee4e5",
   "metadata": {},
   "source": [
    "Creating New Columns from Existing Data"
   ]
  },
  {
   "cell_type": "code",
   "execution_count": 56,
   "id": "e005d830",
   "metadata": {},
   "outputs": [],
   "source": [
    "data[\"loan_age\"] = (today - data[\"issue_d\"]).dt.days\n",
    "data[\"credit_history_length\"] = (data[\"issue_d\"] - data[\"earliest_cr_line\"]).dt.days\n",
    "data[\"time_since_last_payment\"] = (today - data[\"last_pymnt_d\"]).dt.days\n",
    "data[\"time_since_last_credit_pull\"] = (today - data[\"last_credit_pull_d\"]).dt.days"
   ]
  },
  {
   "cell_type": "markdown",
   "id": "fe8f646b",
   "metadata": {},
   "source": [
    "Extracting Month and Years to capture seasonality behaviour"
   ]
  },
  {
   "cell_type": "code",
   "execution_count": 57,
   "id": "3639e42c",
   "metadata": {},
   "outputs": [],
   "source": [
    "data[\"issue_year\"] = data[\"issue_d\"].dt.year\n",
    "data[\"issue_month\"] = data[\"issue_d\"].dt.month"
   ]
  },
  {
   "cell_type": "markdown",
   "id": "76bc3c6a",
   "metadata": {},
   "source": [
    "Create Categorical Flags"
   ]
  },
  {
   "cell_type": "code",
   "execution_count": 58,
   "id": "59e97cbc",
   "metadata": {},
   "outputs": [],
   "source": [
    "data[\"recent_payment\"] = (data[\"time_since_last_payment\"] <=30).astype(int)\n",
    "data[\"recent_credit_pull\"] = (data[\"time_since_last_credit_pull\"] <=90).astype(int)"
   ]
  },
  {
   "cell_type": "code",
   "execution_count": 59,
   "id": "3b048876",
   "metadata": {},
   "outputs": [],
   "source": [
    "drop_cols = {\"earliest_cr_line\", \"issue_d\", \"last_pymnt_d\", \"last_credit_pull_d\"}\n",
    "data.drop(drop_cols, axis = 1, inplace = True)"
   ]
  },
  {
   "cell_type": "markdown",
   "id": "7c709473",
   "metadata": {},
   "source": [
    "Numeric Features"
   ]
  },
  {
   "cell_type": "code",
   "execution_count": 60,
   "id": "0aa4ac5d",
   "metadata": {},
   "outputs": [],
   "source": [
    "y = data[\"loan_status_new\"]"
   ]
  },
  {
   "cell_type": "code",
   "execution_count": 61,
   "id": "97c43014",
   "metadata": {},
   "outputs": [
    {
     "data": {
      "text/plain": [
       "0"
      ]
     },
     "execution_count": 61,
     "metadata": {},
     "output_type": "execute_result"
    }
   ],
   "source": [
    "y.isna().sum()"
   ]
  },
  {
   "cell_type": "code",
   "execution_count": 62,
   "id": "a2caef7c",
   "metadata": {},
   "outputs": [],
   "source": [
    "cat_cols = data.select_dtypes(include = [\"object\"]).columns\n",
    "num_cols = data.select_dtypes(exclude = [\"object\"]).drop(\"loan_status_new\", axis = 1).columns"
   ]
  },
  {
   "cell_type": "code",
   "execution_count": 63,
   "id": "fc2eca84",
   "metadata": {},
   "outputs": [],
   "source": [
    "final_data = pd.concat([data[num_cols], pd.get_dummies(data[cat_cols], drop_first = True)], axis = 1)"
   ]
  },
  {
   "cell_type": "markdown",
   "id": "52c0a287",
   "metadata": {},
   "source": [
    "Replacing missing numeric values with mean value"
   ]
  },
  {
   "cell_type": "code",
   "execution_count": 64,
   "id": "3ee57b77",
   "metadata": {},
   "outputs": [],
   "source": [
    "imputer = SimpleImputer(strategy = \"mean\")\n",
    "X_imputed = imputer.fit_transform(final_data)\n",
    "final_data = pd.DataFrame(X_imputed, columns = final_data.columns)"
   ]
  },
  {
   "cell_type": "markdown",
   "id": "95bffb89",
   "metadata": {},
   "source": [
    "Correlation Analysis between Features and Target"
   ]
  },
  {
   "cell_type": "code",
   "execution_count": 65,
   "id": "20025222",
   "metadata": {},
   "outputs": [
    {
     "name": "stderr",
     "output_type": "stream",
     "text": [
      "c:\\Users\\Phuah Kai Wen\\AppData\\Local\\Programs\\Python\\Python311\\Lib\\site-packages\\numpy\\lib\\function_base.py:2897: RuntimeWarning: invalid value encountered in divide\n",
      "  c /= stddev[:, None]\n",
      "c:\\Users\\Phuah Kai Wen\\AppData\\Local\\Programs\\Python\\Python311\\Lib\\site-packages\\numpy\\lib\\function_base.py:2898: RuntimeWarning: invalid value encountered in divide\n",
      "  c /= stddev[None, :]\n",
      "c:\\Users\\Phuah Kai Wen\\AppData\\Local\\Programs\\Python\\Python311\\Lib\\site-packages\\numpy\\lib\\function_base.py:2897: RuntimeWarning: invalid value encountered in divide\n",
      "  c /= stddev[:, None]\n",
      "c:\\Users\\Phuah Kai Wen\\AppData\\Local\\Programs\\Python\\Python311\\Lib\\site-packages\\numpy\\lib\\function_base.py:2898: RuntimeWarning: invalid value encountered in divide\n",
      "  c /= stddev[None, :]\n",
      "c:\\Users\\Phuah Kai Wen\\AppData\\Local\\Programs\\Python\\Python311\\Lib\\site-packages\\numpy\\lib\\function_base.py:2897: RuntimeWarning: invalid value encountered in divide\n",
      "  c /= stddev[:, None]\n",
      "c:\\Users\\Phuah Kai Wen\\AppData\\Local\\Programs\\Python\\Python311\\Lib\\site-packages\\numpy\\lib\\function_base.py:2898: RuntimeWarning: invalid value encountered in divide\n",
      "  c /= stddev[None, :]\n"
     ]
    }
   ],
   "source": [
    "correlations = final_data.corrwith(y).abs().sort_values(ascending = False).reset_index()"
   ]
  },
  {
   "cell_type": "code",
   "execution_count": 66,
   "id": "44954d29",
   "metadata": {},
   "outputs": [],
   "source": [
    "correlations.columns = [\"name\", \"correlation\"]"
   ]
  },
  {
   "cell_type": "code",
   "execution_count": 67,
   "id": "cb067e5c",
   "metadata": {},
   "outputs": [
    {
     "data": {
      "text/html": [
       "<div>\n",
       "<style scoped>\n",
       "    .dataframe tbody tr th:only-of-type {\n",
       "        vertical-align: middle;\n",
       "    }\n",
       "\n",
       "    .dataframe tbody tr th {\n",
       "        vertical-align: top;\n",
       "    }\n",
       "\n",
       "    .dataframe thead th {\n",
       "        text-align: right;\n",
       "    }\n",
       "</style>\n",
       "<table border=\"1\" class=\"dataframe\">\n",
       "  <thead>\n",
       "    <tr style=\"text-align: right;\">\n",
       "      <th></th>\n",
       "      <th>name</th>\n",
       "      <th>correlation</th>\n",
       "    </tr>\n",
       "  </thead>\n",
       "  <tbody>\n",
       "    <tr>\n",
       "      <th>0</th>\n",
       "      <td>recoveries</td>\n",
       "      <td>0.482490</td>\n",
       "    </tr>\n",
       "    <tr>\n",
       "      <th>1</th>\n",
       "      <td>collection_recovery_fee</td>\n",
       "      <td>0.458173</td>\n",
       "    </tr>\n",
       "    <tr>\n",
       "      <th>2</th>\n",
       "      <td>debt_settlement_flag</td>\n",
       "      <td>0.314430</td>\n",
       "    </tr>\n",
       "    <tr>\n",
       "      <th>3</th>\n",
       "      <td>time_since_last_payment</td>\n",
       "      <td>0.222173</td>\n",
       "    </tr>\n",
       "    <tr>\n",
       "      <th>4</th>\n",
       "      <td>total_rec_prncp</td>\n",
       "      <td>0.216233</td>\n",
       "    </tr>\n",
       "    <tr>\n",
       "      <th>5</th>\n",
       "      <td>int_rate</td>\n",
       "      <td>0.198681</td>\n",
       "    </tr>\n",
       "    <tr>\n",
       "      <th>6</th>\n",
       "      <td>time_since_last_credit_pull</td>\n",
       "      <td>0.184561</td>\n",
       "    </tr>\n",
       "    <tr>\n",
       "      <th>7</th>\n",
       "      <td>last_pymnt_amnt</td>\n",
       "      <td>0.180653</td>\n",
       "    </tr>\n",
       "    <tr>\n",
       "      <th>8</th>\n",
       "      <td>out_prncp</td>\n",
       "      <td>0.168415</td>\n",
       "    </tr>\n",
       "    <tr>\n",
       "      <th>9</th>\n",
       "      <td>out_prncp_inv</td>\n",
       "      <td>0.168400</td>\n",
       "    </tr>\n",
       "    <tr>\n",
       "      <th>10</th>\n",
       "      <td>loan_age</td>\n",
       "      <td>0.135088</td>\n",
       "    </tr>\n",
       "    <tr>\n",
       "      <th>11</th>\n",
       "      <td>total_pymnt</td>\n",
       "      <td>0.132477</td>\n",
       "    </tr>\n",
       "    <tr>\n",
       "      <th>12</th>\n",
       "      <td>total_pymnt_inv</td>\n",
       "      <td>0.132473</td>\n",
       "    </tr>\n",
       "    <tr>\n",
       "      <th>13</th>\n",
       "      <td>issue_year</td>\n",
       "      <td>0.131343</td>\n",
       "    </tr>\n",
       "    <tr>\n",
       "      <th>14</th>\n",
       "      <td>total_rec_late_fee</td>\n",
       "      <td>0.125672</td>\n",
       "    </tr>\n",
       "    <tr>\n",
       "      <th>15</th>\n",
       "      <td>grade_E</td>\n",
       "      <td>0.113315</td>\n",
       "    </tr>\n",
       "    <tr>\n",
       "      <th>16</th>\n",
       "      <td>grade_F</td>\n",
       "      <td>0.094935</td>\n",
       "    </tr>\n",
       "    <tr>\n",
       "      <th>17</th>\n",
       "      <td>acc_open_past_24mths</td>\n",
       "      <td>0.091161</td>\n",
       "    </tr>\n",
       "    <tr>\n",
       "      <th>18</th>\n",
       "      <td>grade_D</td>\n",
       "      <td>0.087443</td>\n",
       "    </tr>\n",
       "    <tr>\n",
       "      <th>19</th>\n",
       "      <td>term</td>\n",
       "      <td>0.086805</td>\n",
       "    </tr>\n",
       "    <tr>\n",
       "      <th>20</th>\n",
       "      <td>inq_last_6mths</td>\n",
       "      <td>0.082985</td>\n",
       "    </tr>\n",
       "    <tr>\n",
       "      <th>21</th>\n",
       "      <td>num_tl_op_past_12m</td>\n",
       "      <td>0.080179</td>\n",
       "    </tr>\n",
       "    <tr>\n",
       "      <th>22</th>\n",
       "      <td>bc_open_to_buy</td>\n",
       "      <td>0.078720</td>\n",
       "    </tr>\n",
       "    <tr>\n",
       "      <th>23</th>\n",
       "      <td>grade_B</td>\n",
       "      <td>0.078151</td>\n",
       "    </tr>\n",
       "    <tr>\n",
       "      <th>24</th>\n",
       "      <td>verification_status_Verified</td>\n",
       "      <td>0.073643</td>\n",
       "    </tr>\n",
       "    <tr>\n",
       "      <th>25</th>\n",
       "      <td>total_bc_limit</td>\n",
       "      <td>0.072154</td>\n",
       "    </tr>\n",
       "    <tr>\n",
       "      <th>26</th>\n",
       "      <td>percent_bc_gt_75</td>\n",
       "      <td>0.071952</td>\n",
       "    </tr>\n",
       "    <tr>\n",
       "      <th>27</th>\n",
       "      <td>bc_util</td>\n",
       "      <td>0.069527</td>\n",
       "    </tr>\n",
       "    <tr>\n",
       "      <th>28</th>\n",
       "      <td>initial_list_status_w</td>\n",
       "      <td>0.063102</td>\n",
       "    </tr>\n",
       "    <tr>\n",
       "      <th>29</th>\n",
       "      <td>revol_util</td>\n",
       "      <td>0.062955</td>\n",
       "    </tr>\n",
       "  </tbody>\n",
       "</table>\n",
       "</div>"
      ],
      "text/plain": [
       "                            name  correlation\n",
       "0                     recoveries     0.482490\n",
       "1        collection_recovery_fee     0.458173\n",
       "2           debt_settlement_flag     0.314430\n",
       "3        time_since_last_payment     0.222173\n",
       "4                total_rec_prncp     0.216233\n",
       "5                       int_rate     0.198681\n",
       "6    time_since_last_credit_pull     0.184561\n",
       "7                last_pymnt_amnt     0.180653\n",
       "8                      out_prncp     0.168415\n",
       "9                  out_prncp_inv     0.168400\n",
       "10                      loan_age     0.135088\n",
       "11                   total_pymnt     0.132477\n",
       "12               total_pymnt_inv     0.132473\n",
       "13                    issue_year     0.131343\n",
       "14            total_rec_late_fee     0.125672\n",
       "15                       grade_E     0.113315\n",
       "16                       grade_F     0.094935\n",
       "17          acc_open_past_24mths     0.091161\n",
       "18                       grade_D     0.087443\n",
       "19                          term     0.086805\n",
       "20                inq_last_6mths     0.082985\n",
       "21            num_tl_op_past_12m     0.080179\n",
       "22                bc_open_to_buy     0.078720\n",
       "23                       grade_B     0.078151\n",
       "24  verification_status_Verified     0.073643\n",
       "25                total_bc_limit     0.072154\n",
       "26              percent_bc_gt_75     0.071952\n",
       "27                       bc_util     0.069527\n",
       "28         initial_list_status_w     0.063102\n",
       "29                    revol_util     0.062955"
      ]
     },
     "execution_count": 67,
     "metadata": {},
     "output_type": "execute_result"
    }
   ],
   "source": [
    "correlations.head(30)"
   ]
  },
  {
   "cell_type": "code",
   "execution_count": 68,
   "id": "b0b88668",
   "metadata": {},
   "outputs": [
    {
     "data": {
      "image/png": "[encoded data removed]",
      "text/plain": [
       "<Figure size 1200x900 with 2 Axes>"
      ]
     },
     "metadata": {},
     "output_type": "display_data"
    }
   ],
   "source": [
    "import seaborn as sns\n",
    "from matplotlib.colors import LinearSegmentedColormap\n",
    "\n",
    "\n",
    "colors = [\"#dc4b5b\", \"#f7b736\", \"#dd62ff\", \"#7132fb\"]\n",
    "custom_cmap = LinearSegmentedColormap.from_list(\"custom_gradient\", colors, N=256)\n",
    "\n",
    "\n",
    "feature_corr = final_data.corr()\n",
    "\n",
    "\n",
    "mask = (feature_corr.abs() > 0.4).any(axis=1)\n",
    "filtered_corr = feature_corr.loc[mask, mask]\n",
    "\n",
    "\n",
    "plt.figure(figsize=(12, 9))\n",
    "sns.set(font=\"DejaVu Sans\", style=\"white\", rc={\"axes.facecolor\": \"white\"})\n",
    "\n",
    "sns.heatmap(\n",
    "    filtered_corr,\n",
    "    cmap=custom_cmap,\n",
    "    center=0,\n",
    "    linewidths=0.5,\n",
    "    linecolor='lightgray',\n",
    "    square=True,\n",
    "    annot=False,\n",
    "    cbar_kws={'shrink': 0.8, 'label': 'Correlation'},\n",
    "    vmin=-1, vmax=1\n",
    ")\n",
    "\n",
    "plt.title(\"Feature Correlation Heatmap\", fontsize=18, pad=12)\n",
    "plt.xticks(rotation=45, ha='right', fontsize=12)\n",
    "plt.yticks(fontsize\n",
    "=12)\n",
    "plt.tight_layout()\n",
    "plt.show()"
   ]
  },
  {
   "cell_type": "markdown",
   "id": "e7ee7943",
   "metadata": {},
   "source": [
    "Correlation Analysis between Features"
   ]
  },
  {
   "cell_type": "code",
   "execution_count": 69,
   "id": "1f122410",
   "metadata": {},
   "outputs": [],
   "source": [
    "high_corr_pairs = feature_corr.abs().unstack().reset_index()"
   ]
  },
  {
   "cell_type": "code",
   "execution_count": 70,
   "id": "3ce37cec",
   "metadata": {},
   "outputs": [],
   "source": [
    "high_corr_pairs = high_corr_pairs[high_corr_pairs[\"level_0\"] != high_corr_pairs[\"level_1\"]]"
   ]
  },
  {
   "cell_type": "code",
   "execution_count": 71,
   "id": "16efd5dc",
   "metadata": {},
   "outputs": [],
   "source": [
    "high_corr_pairs.columns = [\"feature_1\", \"feature_2\", \"correlation\"]"
   ]
  },
  {
   "cell_type": "code",
   "execution_count": 72,
   "id": "2c91df14",
   "metadata": {},
   "outputs": [],
   "source": [
    "threshold = 0.8\n",
    "high_corr_pairs = high_corr_pairs[high_corr_pairs[\"correlation\"]> threshold]"
   ]
  },
  {
   "cell_type": "code",
   "execution_count": 73,
   "id": "4be2aff0",
   "metadata": {},
   "outputs": [
    {
     "data": {
      "text/html": [
       "<div>\n",
       "<style scoped>\n",
       "    .dataframe tbody tr th:only-of-type {\n",
       "        vertical-align: middle;\n",
       "    }\n",
       "\n",
       "    .dataframe tbody tr th {\n",
       "        vertical-align: top;\n",
       "    }\n",
       "\n",
       "    .dataframe thead th {\n",
       "        text-align: right;\n",
       "    }\n",
       "</style>\n",
       "<table border=\"1\" class=\"dataframe\">\n",
       "  <thead>\n",
       "    <tr style=\"text-align: right;\">\n",
       "      <th></th>\n",
       "      <th>feature_1</th>\n",
       "      <th>feature_2</th>\n",
       "      <th>correlation</th>\n",
       "    </tr>\n",
       "  </thead>\n",
       "  <tbody>\n",
       "    <tr>\n",
       "      <th>1</th>\n",
       "      <td>loan_amnt</td>\n",
       "      <td>funded_amnt</td>\n",
       "      <td>0.999764</td>\n",
       "    </tr>\n",
       "    <tr>\n",
       "      <th>2</th>\n",
       "      <td>loan_amnt</td>\n",
       "      <td>funded_amnt_inv</td>\n",
       "      <td>0.999228</td>\n",
       "    </tr>\n",
       "    <tr>\n",
       "      <th>5</th>\n",
       "      <td>loan_amnt</td>\n",
       "      <td>installment</td>\n",
       "      <td>0.945600</td>\n",
       "    </tr>\n",
       "    <tr>\n",
       "      <th>110</th>\n",
       "      <td>funded_amnt</td>\n",
       "      <td>loan_amnt</td>\n",
       "      <td>0.999764</td>\n",
       "    </tr>\n",
       "    <tr>\n",
       "      <th>112</th>\n",
       "      <td>funded_amnt</td>\n",
       "      <td>funded_amnt_inv</td>\n",
       "      <td>0.999513</td>\n",
       "    </tr>\n",
       "    <tr>\n",
       "      <th>...</th>\n",
       "      <td>...</td>\n",
       "      <td>...</td>\n",
       "      <td>...</td>\n",
       "    </tr>\n",
       "    <tr>\n",
       "      <th>9293</th>\n",
       "      <td>credit_history_length</td>\n",
       "      <td>mo_sin_old_rev_tl_op</td>\n",
       "      <td>0.903511</td>\n",
       "    </tr>\n",
       "    <tr>\n",
       "      <th>9433</th>\n",
       "      <td>time_since_last_payment</td>\n",
       "      <td>loan_age</td>\n",
       "      <td>0.813641</td>\n",
       "    </tr>\n",
       "    <tr>\n",
       "      <th>9437</th>\n",
       "      <td>time_since_last_payment</td>\n",
       "      <td>issue_year</td>\n",
       "      <td>0.808086</td>\n",
       "    </tr>\n",
       "    <tr>\n",
       "      <th>9653</th>\n",
       "      <td>issue_year</td>\n",
       "      <td>loan_age</td>\n",
       "      <td>0.987273</td>\n",
       "    </tr>\n",
       "    <tr>\n",
       "      <th>9655</th>\n",
       "      <td>issue_year</td>\n",
       "      <td>time_since_last_payment</td>\n",
       "      <td>0.808086</td>\n",
       "    </tr>\n",
       "  </tbody>\n",
       "</table>\n",
       "<p>62 rows × 3 columns</p>\n",
       "</div>"
      ],
      "text/plain": [
       "                    feature_1                feature_2  correlation\n",
       "1                   loan_amnt              funded_amnt     0.999764\n",
       "2                   loan_amnt          funded_amnt_inv     0.999228\n",
       "5                   loan_amnt              installment     0.945600\n",
       "110               funded_amnt                loan_amnt     0.999764\n",
       "112               funded_amnt          funded_amnt_inv     0.999513\n",
       "...                       ...                      ...          ...\n",
       "9293    credit_history_length     mo_sin_old_rev_tl_op     0.903511\n",
       "9433  time_since_last_payment                 loan_age     0.813641\n",
       "9437  time_since_last_payment               issue_year     0.808086\n",
       "9653               issue_year                 loan_age     0.987273\n",
       "9655               issue_year  time_since_last_payment     0.808086\n",
       "\n",
       "[62 rows x 3 columns]"
      ]
     },
     "execution_count": 73,
     "metadata": {},
     "output_type": "execute_result"
    }
   ],
   "source": [
    "high_corr_pairs"
   ]
  },
  {
   "cell_type": "markdown",
   "id": "aee708de",
   "metadata": {},
   "source": [
    "Feature Selection "
   ]
  },
  {
   "cell_type": "code",
   "execution_count": 86,
   "id": "874b9ab5",
   "metadata": {},
   "outputs": [
    {
     "name": "stdout",
     "output_type": "stream",
     "text": [
      "Selected Features :  ['term', 'int_rate', 'installment', 'emp_length', 'annual_inc', 'dti', 'delinq_2yrs', 'inq_last_6mths', 'pub_rec', 'revol_bal', 'total_acc', 'out_prncp', 'total_rec_prncp', 'total_rec_int', 'total_rec_late_fee', 'recoveries', 'last_pymnt_amnt', 'collections_12_mths_ex_med', 'policy_code', 'acc_now_delinq', 'tot_coll_amt', 'open_acc_6m', 'open_act_il', 'open_il_12m', 'open_il_24m', 'mths_since_rcnt_il', 'total_bal_il', 'il_util', 'open_rv_12m', 'open_rv_24m', 'max_bal_bc', 'all_util', 'total_rev_hi_lim', 'inq_fi', 'total_cu_tl', 'inq_last_12m', 'acc_open_past_24mths', 'avg_cur_bal', 'bc_open_to_buy', 'chargeoff_within_12_mths', 'delinq_amnt', 'mo_sin_old_il_acct', 'mo_sin_old_rev_tl_op', 'mo_sin_rcnt_rev_tl_op', 'mo_sin_rcnt_tl', 'mort_acc', 'mths_since_recent_bc', 'mths_since_recent_inq', 'num_accts_ever_120_pd', 'num_actv_rev_tl', 'num_il_tl', 'num_rev_accts', 'num_tl_120dpd_2m', 'num_tl_90g_dpd_24m', 'num_tl_op_past_12m', 'pct_tl_nvr_dlq', 'percent_bc_gt_75', 'pub_rec_bankruptcies', 'tax_liens', 'tot_hi_cred_lim', 'total_il_high_credit_limit', 'hardship_flag', 'debt_settlement_flag', 'time_since_last_payment', 'time_since_last_credit_pull', 'issue_month', 'recent_payment', 'recent_credit_pull', 'grade_B', 'grade_C', 'grade_D', 'grade_E', 'grade_F', 'grade_G', 'home_ownership_other', 'home_ownership_own', 'home_ownership_rent', 'verification_status_Source Verified', 'verification_status_Verified', 'purpose_credit_card', 'purpose_debt_consolidation', 'purpose_house_improvement', 'purpose_major_purchase', 'purpose_other', 'purpose_small_business', 'initial_list_status_w', 'disbursement_method_DirectPay']\n",
      "Dropped Features :  {'funded_amnt_inv', 'issue_year', 'bc_util', 'num_sats', 'tot_cur_bal', 'num_rev_tl_bal_gt_0', 'total_bal_ex_mort', 'total_pymnt', 'loan_amnt', 'num_op_rev_tl', 'loan_age', 'num_tl_30dpd', 'num_bc_sats', 'total_bc_limit', 'credit_history_length', 'out_prncp_inv', 'revol_util', 'open_acc', 'funded_amnt', 'num_actv_bc_tl', 'collection_recovery_fee', 'num_bc_tl', 'total_pymnt_inv'}\n"
     ]
    }
   ],
   "source": [
    "features_to_drop = set()\n",
    "\n",
    "for _, row in high_corr_pairs.iterrows():\n",
    "    feature_1 = row[\"feature_1\"]\n",
    "    feature_2 = row[\"feature_2\"]\n",
    "\n",
    "    corr_1 = correlations[correlations[\"name\"] == feature_1][\"correlation\"].values[0]\n",
    "    corr_2 = correlations[correlations[\"name\"] == feature_2][\"correlation\"].values[0]\n",
    "\n",
    "    if corr_1 > corr_2:\n",
    "        features_to_drop.add(feature_2)\n",
    "    else:\n",
    "        features_to_drop.add(feature_1)\n",
    "\n",
    "selected_features = [col for col in feature_corr.columns if col not in features_to_drop]\n",
    "\n",
    "print(\"Selected Features : \", selected_features)\n",
    "print(\"Dropped Features : \", features_to_drop)"
   ]
  },
  {
   "cell_type": "code",
   "execution_count": 87,
   "id": "109ef696",
   "metadata": {},
   "outputs": [
    {
     "name": "stdout",
     "output_type": "stream",
     "text": [
      "Selected Features: 87 \n",
      "Features Dropped:  23\n"
     ]
    }
   ],
   "source": [
    "print(\"Selected Features:\" ,len(selected_features), \"\\nFeatures Dropped: \", len(features_to_drop))"
   ]
  },
  {
   "cell_type": "code",
   "execution_count": 88,
   "id": "8bf9a961",
   "metadata": {},
   "outputs": [
    {
     "ename": "KeyError",
     "evalue": "\"['funded_amnt_inv', 'issue_year', 'bc_util', 'num_sats', 'tot_cur_bal', 'num_rev_tl_bal_gt_0', 'total_bal_ex_mort', 'total_pymnt', 'loan_amnt', 'num_op_rev_tl', 'loan_age', 'num_tl_30dpd', 'num_bc_sats', 'total_bc_limit', 'credit_history_length', 'out_prncp_inv', 'revol_util', 'open_acc', 'funded_amnt', 'num_actv_bc_tl', 'collection_recovery_fee', 'num_bc_tl', 'total_pymnt_inv'] not found in axis\"",
     "output_type": "error",
     "traceback": [
      "\u001b[31m---------------------------------------------------------------------------\u001b[39m",
      "\u001b[31mKeyError\u001b[39m                                  Traceback (most recent call last)",
      "\u001b[36mCell\u001b[39m\u001b[36m \u001b[39m\u001b[32mIn[88]\u001b[39m\u001b[32m, line 1\u001b[39m\n\u001b[32m----> \u001b[39m\u001b[32m1\u001b[39m \u001b[43mfinal_data\u001b[49m\u001b[43m.\u001b[49m\u001b[43mdrop\u001b[49m\u001b[43m(\u001b[49m\u001b[43mfeatures_to_drop\u001b[49m\u001b[43m,\u001b[49m\u001b[43m \u001b[49m\u001b[43maxis\u001b[49m\u001b[43m=\u001b[49m\u001b[32;43m1\u001b[39;49m\u001b[43m,\u001b[49m\u001b[43m \u001b[49m\u001b[43minplace\u001b[49m\u001b[43m=\u001b[49m\u001b[38;5;28;43;01mTrue\u001b[39;49;00m\u001b[43m)\u001b[49m\n",
      "\u001b[36mFile \u001b[39m\u001b[32mc:\\Users\\Phuah Kai Wen\\AppData\\Local\\Programs\\Python\\Python311\\Lib\\site-packages\\pandas\\core\\frame.py:5588\u001b[39m, in \u001b[36mDataFrame.drop\u001b[39m\u001b[34m(self, labels, axis, index, columns, level, inplace, errors)\u001b[39m\n\u001b[32m   5440\u001b[39m \u001b[38;5;28;01mdef\u001b[39;00m\u001b[38;5;250m \u001b[39m\u001b[34mdrop\u001b[39m(\n\u001b[32m   5441\u001b[39m     \u001b[38;5;28mself\u001b[39m,\n\u001b[32m   5442\u001b[39m     labels: IndexLabel | \u001b[38;5;28;01mNone\u001b[39;00m = \u001b[38;5;28;01mNone\u001b[39;00m,\n\u001b[32m   (...)\u001b[39m\u001b[32m   5449\u001b[39m     errors: IgnoreRaise = \u001b[33m\"\u001b[39m\u001b[33mraise\u001b[39m\u001b[33m\"\u001b[39m,\n\u001b[32m   5450\u001b[39m ) -> DataFrame | \u001b[38;5;28;01mNone\u001b[39;00m:\n\u001b[32m   5451\u001b[39m \u001b[38;5;250m    \u001b[39m\u001b[33;03m\"\"\"\u001b[39;00m\n\u001b[32m   5452\u001b[39m \u001b[33;03m    Drop specified labels from rows or columns.\u001b[39;00m\n\u001b[32m   5453\u001b[39m \n\u001b[32m   (...)\u001b[39m\u001b[32m   5586\u001b[39m \u001b[33;03m            weight  1.0     0.8\u001b[39;00m\n\u001b[32m   5587\u001b[39m \u001b[33;03m    \"\"\"\u001b[39;00m\n\u001b[32m-> \u001b[39m\u001b[32m5588\u001b[39m     \u001b[38;5;28;01mreturn\u001b[39;00m \u001b[38;5;28;43msuper\u001b[39;49m\u001b[43m(\u001b[49m\u001b[43m)\u001b[49m\u001b[43m.\u001b[49m\u001b[43mdrop\u001b[49m\u001b[43m(\u001b[49m\n\u001b[32m   5589\u001b[39m \u001b[43m        \u001b[49m\u001b[43mlabels\u001b[49m\u001b[43m=\u001b[49m\u001b[43mlabels\u001b[49m\u001b[43m,\u001b[49m\n\u001b[32m   5590\u001b[39m \u001b[43m        \u001b[49m\u001b[43maxis\u001b[49m\u001b[43m=\u001b[49m\u001b[43maxis\u001b[49m\u001b[43m,\u001b[49m\n\u001b[32m   5591\u001b[39m \u001b[43m        \u001b[49m\u001b[43mindex\u001b[49m\u001b[43m=\u001b[49m\u001b[43mindex\u001b[49m\u001b[43m,\u001b[49m\n\u001b[32m   5592\u001b[39m \u001b[43m        \u001b[49m\u001b[43mcolumns\u001b[49m\u001b[43m=\u001b[49m\u001b[43mcolumns\u001b[49m\u001b[43m,\u001b[49m\n\u001b[32m   5593\u001b[39m \u001b[43m        \u001b[49m\u001b[43mlevel\u001b[49m\u001b[43m=\u001b[49m\u001b[43mlevel\u001b[49m\u001b[43m,\u001b[49m\n\u001b[32m   5594\u001b[39m \u001b[43m        \u001b[49m\u001b[43minplace\u001b[49m\u001b[43m=\u001b[49m\u001b[43minplace\u001b[49m\u001b[43m,\u001b[49m\n\u001b[32m   5595\u001b[39m \u001b[43m        \u001b[49m\u001b[43merrors\u001b[49m\u001b[43m=\u001b[49m\u001b[43merrors\u001b[49m\u001b[43m,\u001b[49m\n\u001b[32m   5596\u001b[39m \u001b[43m    \u001b[49m\u001b[43m)\u001b[49m\n",
      "\u001b[36mFile \u001b[39m\u001b[32mc:\\Users\\Phuah Kai Wen\\AppData\\Local\\Programs\\Python\\Python311\\Lib\\site-packages\\pandas\\core\\generic.py:4807\u001b[39m, in \u001b[36mNDFrame.drop\u001b[39m\u001b[34m(self, labels, axis, index, columns, level, inplace, errors)\u001b[39m\n\u001b[32m   4805\u001b[39m \u001b[38;5;28;01mfor\u001b[39;00m axis, labels \u001b[38;5;129;01min\u001b[39;00m axes.items():\n\u001b[32m   4806\u001b[39m     \u001b[38;5;28;01mif\u001b[39;00m labels \u001b[38;5;129;01mis\u001b[39;00m \u001b[38;5;129;01mnot\u001b[39;00m \u001b[38;5;28;01mNone\u001b[39;00m:\n\u001b[32m-> \u001b[39m\u001b[32m4807\u001b[39m         obj = \u001b[43mobj\u001b[49m\u001b[43m.\u001b[49m\u001b[43m_drop_axis\u001b[49m\u001b[43m(\u001b[49m\u001b[43mlabels\u001b[49m\u001b[43m,\u001b[49m\u001b[43m \u001b[49m\u001b[43maxis\u001b[49m\u001b[43m,\u001b[49m\u001b[43m \u001b[49m\u001b[43mlevel\u001b[49m\u001b[43m=\u001b[49m\u001b[43mlevel\u001b[49m\u001b[43m,\u001b[49m\u001b[43m \u001b[49m\u001b[43merrors\u001b[49m\u001b[43m=\u001b[49m\u001b[43merrors\u001b[49m\u001b[43m)\u001b[49m\n\u001b[32m   4809\u001b[39m \u001b[38;5;28;01mif\u001b[39;00m inplace:\n\u001b[32m   4810\u001b[39m     \u001b[38;5;28mself\u001b[39m._update_inplace(obj)\n",
      "\u001b[36mFile \u001b[39m\u001b[32mc:\\Users\\Phuah Kai Wen\\AppData\\Local\\Programs\\Python\\Python311\\Lib\\site-packages\\pandas\\core\\generic.py:4849\u001b[39m, in \u001b[36mNDFrame._drop_axis\u001b[39m\u001b[34m(self, labels, axis, level, errors, only_slice)\u001b[39m\n\u001b[32m   4847\u001b[39m         new_axis = axis.drop(labels, level=level, errors=errors)\n\u001b[32m   4848\u001b[39m     \u001b[38;5;28;01melse\u001b[39;00m:\n\u001b[32m-> \u001b[39m\u001b[32m4849\u001b[39m         new_axis = \u001b[43maxis\u001b[49m\u001b[43m.\u001b[49m\u001b[43mdrop\u001b[49m\u001b[43m(\u001b[49m\u001b[43mlabels\u001b[49m\u001b[43m,\u001b[49m\u001b[43m \u001b[49m\u001b[43merrors\u001b[49m\u001b[43m=\u001b[49m\u001b[43merrors\u001b[49m\u001b[43m)\u001b[49m\n\u001b[32m   4850\u001b[39m     indexer = axis.get_indexer(new_axis)\n\u001b[32m   4852\u001b[39m \u001b[38;5;66;03m# Case for non-unique axis\u001b[39;00m\n\u001b[32m   4853\u001b[39m \u001b[38;5;28;01melse\u001b[39;00m:\n",
      "\u001b[36mFile \u001b[39m\u001b[32mc:\\Users\\Phuah Kai Wen\\AppData\\Local\\Programs\\Python\\Python311\\Lib\\site-packages\\pandas\\core\\indexes\\base.py:7098\u001b[39m, in \u001b[36mIndex.drop\u001b[39m\u001b[34m(self, labels, errors)\u001b[39m\n\u001b[32m   7096\u001b[39m \u001b[38;5;28;01mif\u001b[39;00m mask.any():\n\u001b[32m   7097\u001b[39m     \u001b[38;5;28;01mif\u001b[39;00m errors != \u001b[33m\"\u001b[39m\u001b[33mignore\u001b[39m\u001b[33m\"\u001b[39m:\n\u001b[32m-> \u001b[39m\u001b[32m7098\u001b[39m         \u001b[38;5;28;01mraise\u001b[39;00m \u001b[38;5;167;01mKeyError\u001b[39;00m(\u001b[33mf\u001b[39m\u001b[33m\"\u001b[39m\u001b[38;5;132;01m{\u001b[39;00mlabels[mask].tolist()\u001b[38;5;132;01m}\u001b[39;00m\u001b[33m not found in axis\u001b[39m\u001b[33m\"\u001b[39m)\n\u001b[32m   7099\u001b[39m     indexer = indexer[~mask]\n\u001b[32m   7100\u001b[39m \u001b[38;5;28;01mreturn\u001b[39;00m \u001b[38;5;28mself\u001b[39m.delete(indexer)\n",
      "\u001b[31mKeyError\u001b[39m: \"['funded_amnt_inv', 'issue_year', 'bc_util', 'num_sats', 'tot_cur_bal', 'num_rev_tl_bal_gt_0', 'total_bal_ex_mort', 'total_pymnt', 'loan_amnt', 'num_op_rev_tl', 'loan_age', 'num_tl_30dpd', 'num_bc_sats', 'total_bc_limit', 'credit_history_length', 'out_prncp_inv', 'revol_util', 'open_acc', 'funded_amnt', 'num_actv_bc_tl', 'collection_recovery_fee', 'num_bc_tl', 'total_pymnt_inv'] not found in axis\""
     ]
    }
   ],
   "source": [
    "final_data.drop(features_to_drop, axis=1, inplace=True)"
   ]
  },
  {
   "cell_type": "code",
   "execution_count": 89,
   "id": "dc439f31",
   "metadata": {},
   "outputs": [
    {
     "data": {
      "text/plain": [
       "73"
      ]
     },
     "execution_count": 89,
     "metadata": {},
     "output_type": "execute_result"
    }
   ],
   "source": [
    "len(final_data.columns)"
   ]
  },
  {
   "cell_type": "markdown",
   "id": "1f6bc39b",
   "metadata": {
    "vscode": {
     "languageId": "ruby"
    }
   },
   "source": [
    "Further Selection with Random Forest Classifier"
   ]
  },
  {
   "cell_type": "code",
   "execution_count": 90,
   "id": "c77ce143",
   "metadata": {},
   "outputs": [],
   "source": [
    "X = final_data\n",
    "X_train, X_test, Y_train, Y_test = train_test_split(X, y, test_size = 0.2, random_state = 42)"
   ]
  },
  {
   "cell_type": "code",
   "execution_count": 91,
   "id": "1e1250b5",
   "metadata": {},
   "outputs": [],
   "source": [
    "scaler = StandardScaler()\n",
    "X_train_scaled = scaler.fit_transform(X_train)\n",
    "X_test_scaled = scaler.transform(X_test)"
   ]
  },
  {
   "cell_type": "code",
   "execution_count": 92,
   "id": "da60397c",
   "metadata": {},
   "outputs": [
    {
     "name": "stdout",
     "output_type": "stream",
     "text": [
      "Original features: 73, Selected features: 19\n"
     ]
    },
    {
     "data": {
      "text/plain": [
       "array(['int_rate', 'annual_inc', 'dti', 'revol_bal', 'total_acc',\n",
       "       'total_rec_int', 'total_rec_late_fee', 'last_pymnt_amnt',\n",
       "       'total_rev_hi_lim', 'acc_open_past_24mths', 'mo_sin_old_il_acct',\n",
       "       'mo_sin_rcnt_rev_tl_op', 'mo_sin_rcnt_tl', 'mths_since_recent_bc',\n",
       "       'mths_since_recent_inq', 'num_il_tl', 'debt_settlement_flag',\n",
       "       'time_since_last_credit_pull', 'issue_month'], dtype=object)"
      ]
     },
     "execution_count": 92,
     "metadata": {},
     "output_type": "execute_result"
    }
   ],
   "source": [
    "# Train Random Forest for feature selection\n",
    "rf = RandomForestClassifier(n_estimators=100, random_state=42)\n",
    "rf.fit(X_train_scaled, Y_train)\n",
    "\n",
    "# Select features with importance above a threshold\n",
    "model = SelectFromModel(rf, prefit=True, threshold=\"mean\")\n",
    "X_train_selected = model.transform(X_train_scaled)\n",
    "X_test_selected = model.transform(X_test_scaled)\n",
    "\n",
    "print(f\"Original features: {X.shape[1]}, Selected features: {X_train_selected.shape[1]}\")\n",
    "\n",
    "# Get the mask of selected features\n",
    "selected_features_mask = model.get_support()\n",
    "\n",
    "# Get the names of the selected features\n",
    "selected_features_names = np.array(X.columns)[selected_features_mask]\n",
    "selected_features_names"
   ]
  },
  {
   "cell_type": "code",
   "execution_count": 93,
   "id": "4ec95e35",
   "metadata": {},
   "outputs": [],
   "source": [
    "# Define a function to evaluate and display metrics\n",
    "def evaluate_model(model, X_test, y_test, model_name):\n",
    "    y_pred_prob = model.predict_proba(X_test)[:, 1]\n",
    "    y_pred = model.predict(X_test)\n",
    "    \n",
    "    conf_matrix = confusion_matrix(y_test, y_pred)\n",
    "    accuracy = accuracy_score(y_test, y_pred)\n",
    "    recall = recall_score(y_test, y_pred)\n",
    "    f2 = fbeta_score(y_test, y_pred, beta=2)\n",
    "    auc = roc_auc_score(y_test, y_pred_prob)\n",
    "    \n",
    "    print(f\"Results for {model_name}:\")\n",
    "    print(\"Confusion Matrix:\")\n",
    "    print(conf_matrix)\n",
    "    print(\"\\nClassification Report:\")\n",
    "    print(classification_report(y_test, y_pred))\n",
    "    print(f\"Accuracy: {accuracy:.4f}\")\n",
    "    print(f\"Recall: {recall:.4f}\")\n",
    "    print(f\"F2 Score: {f2:.4f}\")\n",
    "    print(f\"AUC: {auc:.4f}\")\n",
    "    print(\"\\n\")\n",
    "    \n",
    "    return {\n",
    "        \"Model\": model_name,\n",
    "        \"Accuracy\": accuracy,\n",
    "        \"Recall\": recall,\n",
    "        \"F2\": f2,\n",
    "        \"AUC\": auc\n",
    "    }"
   ]
  },
  {
   "cell_type": "code",
   "execution_count": 94,
   "id": "e3bc7caf",
   "metadata": {},
   "outputs": [],
   "source": [
    "def shap_explanations(model, X_test, model_name):\n",
    "\n",
    "    if model_name == \"Logistic Regression\":\n",
    "        linear_explainer = shap.LinearExplainer(model, X_test)\n",
    "        shap_values = linear_explainer.shap_values(X_test)\n",
    "    else:\n",
    "        tree_explainer = shap.TreeExplainer(model)\n",
    "        shap_values = tree_explainer.shap_values(X_test)\n",
    "\n",
    "    print(f\"Top SHAP feature importances for {model_name}\")\n",
    "    shap.summary_plot(shap_values, X_test, plot_type = \"bar\", show = False)\n",
    "    plt.show()\n"
   ]
  },
  {
   "cell_type": "code",
   "execution_count": 95,
   "id": "798b52b1",
   "metadata": {},
   "outputs": [
    {
     "name": "stdout",
     "output_type": "stream",
     "text": [
      "[LightGBM] [Info] Number of positive: 1576903, number of negative: 229432\n",
      "[LightGBM] [Info] Auto-choosing col-wise multi-threading, the overhead of testing was 0.160009 seconds.\n",
      "You can set `force_col_wise=true` to remove the overhead.\n",
      "[LightGBM] [Info] Total Bins 3264\n",
      "[LightGBM] [Info] Number of data points in the train set: 1806335, number of used features: 19\n",
      "[LightGBM] [Info] [binary:BoostFromScore]: pavg=0.872985 -> initscore=1.927611\n",
      "[LightGBM] [Info] Start training from score 1.927611\n",
      "Results for Logistic Regression:\n",
      "Confusion Matrix:\n",
      "[[ 19004  38884]\n",
      " [  7523 386173]]\n",
      "\n",
      "Classification Report:\n",
      "              precision    recall  f1-score   support\n",
      "\n",
      "         0.0       0.72      0.33      0.45     57888\n",
      "         1.0       0.91      0.98      0.94    393696\n",
      "\n",
      "    accuracy                           0.90    451584\n",
      "   macro avg       0.81      0.65      0.70    451584\n",
      "weighted avg       0.88      0.90      0.88    451584\n",
      "\n",
      "Accuracy: 0.8972\n",
      "Recall: 0.9809\n",
      "F2 Score: 0.9655\n",
      "AUC: 0.8934\n",
      "\n",
      "\n",
      "Results for Gradient Boosting:\n",
      "Confusion Matrix:\n",
      "[[ 33259  24629]\n",
      " [  7732 385964]]\n",
      "\n",
      "Classification Report:\n",
      "              precision    recall  f1-score   support\n",
      "\n",
      "         0.0       0.81      0.57      0.67     57888\n",
      "         1.0       0.94      0.98      0.96    393696\n",
      "\n",
      "    accuracy                           0.93    451584\n",
      "   macro avg       0.88      0.78      0.82    451584\n",
      "weighted avg       0.92      0.93      0.92    451584\n",
      "\n",
      "Accuracy: 0.9283\n",
      "Recall: 0.9804\n",
      "F2 Score: 0.9720\n",
      "AUC: 0.9287\n",
      "\n",
      "\n"
     ]
    },
    {
     "name": "stderr",
     "output_type": "stream",
     "text": [
      "c:\\Users\\Phuah Kai Wen\\AppData\\Local\\Programs\\Python\\Python311\\Lib\\site-packages\\sklearn\\utils\\validation.py:2749: UserWarning: X does not have valid feature names, but LGBMClassifier was fitted with feature names\n",
      "  warnings.warn(\n",
      "c:\\Users\\Phuah Kai Wen\\AppData\\Local\\Programs\\Python\\Python311\\Lib\\site-packages\\sklearn\\utils\\validation.py:2749: UserWarning: X does not have valid feature names, but LGBMClassifier was fitted with feature names\n",
      "  warnings.warn(\n"
     ]
    },
    {
     "name": "stdout",
     "output_type": "stream",
     "text": [
      "Results for LightBGM:\n",
      "Confusion Matrix:\n",
      "[[ 37024  20864]\n",
      " [  5741 387955]]\n",
      "\n",
      "Classification Report:\n",
      "              precision    recall  f1-score   support\n",
      "\n",
      "         0.0       0.87      0.64      0.74     57888\n",
      "         1.0       0.95      0.99      0.97    393696\n",
      "\n",
      "    accuracy                           0.94    451584\n",
      "   macro avg       0.91      0.81      0.85    451584\n",
      "weighted avg       0.94      0.94      0.94    451584\n",
      "\n",
      "Accuracy: 0.9411\n",
      "Recall: 0.9854\n",
      "F2 Score: 0.9779\n",
      "AUC: 0.9503\n",
      "\n",
      "\n"
     ]
    },
    {
     "name": "stderr",
     "output_type": "stream",
     "text": [
      "c:\\Users\\Phuah Kai Wen\\AppData\\Local\\Programs\\Python\\Python311\\Lib\\site-packages\\sklearn\\utils\\validation.py:2749: UserWarning: X does not have valid feature names, but LGBMClassifier was fitted with feature names\n",
      "  warnings.warn(\n"
     ]
    },
    {
     "data": {
      "text/plain": [
       "<Figure size 400x400 with 0 Axes>"
      ]
     },
     "metadata": {},
     "output_type": "display_data"
    },
    {
     "data": {
      "image/png": "[encoded data removed]",
      "text/plain": [
       "<Figure size 640x480 with 1 Axes>"
      ]
     },
     "metadata": {},
     "output_type": "display_data"
    },
    {
     "data": {
      "image/png": "[encoded data removed]",
      "text/plain": [
       "<Figure size 640x480 with 1 Axes>"
      ]
     },
     "metadata": {},
     "output_type": "display_data"
    },
    {
     "data": {
      "image/png": "[encoded data removed]",
      "text/plain": [
       "<Figure size 640x480 with 1 Axes>"
      ]
     },
     "metadata": {},
     "output_type": "display_data"
    },
    {
     "name": "stdout",
     "output_type": "stream",
     "text": [
      "Top SHAP feature importances for Logistic Regression\n"
     ]
    },
    {
     "data": {
      "image/png": "[encoded data removed]",
      "text/plain": [
       "<Figure size 800x910 with 1 Axes>"
      ]
     },
     "metadata": {},
     "output_type": "display_data"
    },
    {
     "name": "stdout",
     "output_type": "stream",
     "text": [
      "Top SHAP feature importances for Gradient Boosting\n"
     ]
    },
    {
     "data": {
      "image/png": "[encoded data removed]",
      "text/plain": [
       "<Figure size 800x910 with 1 Axes>"
      ]
     },
     "metadata": {},
     "output_type": "display_data"
    },
    {
     "name": "stderr",
     "output_type": "stream",
     "text": [
      "c:\\Users\\Phuah Kai Wen\\AppData\\Local\\Programs\\Python\\Python311\\Lib\\site-packages\\shap\\explainers\\_tree.py:583: UserWarning: LightGBM binary classifier with TreeExplainer shap values output has changed to a list of ndarray\n",
      "  warnings.warn(\n"
     ]
    },
    {
     "name": "stdout",
     "output_type": "stream",
     "text": [
      "Top SHAP feature importances for LightBGM\n"
     ]
    },
    {
     "data": {
      "image/png": "[encoded data removed]",
      "text/plain": [
       "<Figure size 800x910 with 1 Axes>"
      ]
     },
     "metadata": {},
     "output_type": "display_data"
    },
    {
     "name": "stdout",
     "output_type": "stream",
     "text": [
      "Summary of Results:\n",
      "                 Model  Accuracy    Recall        F2       AUC\n",
      "0  Logistic Regression  0.897235  0.980891  0.965509  0.893397\n",
      "1    Gradient Boosting  0.928339  0.980360  0.972017  0.928659\n",
      "2             LightBGM  0.941085  0.985418  0.977905  0.950316\n"
     ]
    }
   ],
   "source": [
    "lr_model = LogisticRegression(random_state = 42)\n",
    "lr_model.fit(X_train_selected, Y_train)\n",
    "\n",
    "gb_model = GradientBoostingClassifier(n_estimators = 100, random_state = 42)\n",
    "gb_model.fit(X_train_selected, Y_train)\n",
    "\n",
    "lgbm_model = LGBMClassifier(n_estimators = 500, random_state = 42, learning_rate = 0.05, max_depth = 6)\n",
    "lgbm_model.fit(X_train_selected, Y_train)\n",
    "\n",
    "\n",
    "# Update the evaluation code to include all four models\n",
    "results = []\n",
    "results.append(evaluate_model(lr_model, X_test_selected, Y_test, \"Logistic Regression\"))\n",
    "results.append(evaluate_model(gb_model, X_test_selected, Y_test, \"Gradient Boosting\"))\n",
    "results.append(evaluate_model(lgbm_model, X_test_selected, Y_test, \"LightBGM\"))\n",
    "\n",
    "# Plot ROC Curves for all models\n",
    "plt.figure(figsize=(4, 4))\n",
    "RocCurveDisplay.from_estimator(lr_model, X_test_selected, Y_test, name=\"Logistic Regression\")\n",
    "RocCurveDisplay.from_estimator(gb_model, X_test_selected, Y_test, name=\"Gradient Boosting\")\n",
    "RocCurveDisplay.from_estimator(lgbm_model, X_test_selected, Y_test, name = \"LightBGM\")\n",
    "plt.title(\"ROC Curve Comparison\")\n",
    "plt.legend(loc=\"lower right\")  \n",
    "plt.show()\n",
    "\n",
    "shap_explanations(lr_model, X_test_selected, \"Logistic Regression\")\n",
    "shap_explanations(gb_model, X_test_selected, \"Gradient Boosting\")\n",
    "shap_explanations(lgbm_model, X_test_selected, \"LightBGM\")\n",
    "\n",
    "# Summarize the results in a DataFrame\n",
    "\n",
    "results_df = pd.DataFrame(results)\n",
    "print(\"Summary of Results:\")\n",
    "print(results_df)\n"
   ]
  },
  {
   "cell_type": "code",
   "execution_count": 96,
   "id": "344cb0c9",
   "metadata": {},
   "outputs": [
    {
     "data": {
      "text/plain": [
       "['selected_features.pkl']"
      ]
     },
     "execution_count": 96,
     "metadata": {},
     "output_type": "execute_result"
    }
   ],
   "source": [
    "import joblib\n",
    "\n",
    "joblib.dump(lgbm_model, \"lgbm_model.pkl\")\n",
    "joblib.dump(selected_features_names, \"selected_features.pkl\")"
   ]
  },
  {
   "cell_type": "code",
   "execution_count": null,
   "id": "e6cda380",
   "metadata": {},
   "outputs": [],
   "source": []
  }
 ],
 "metadata": {
  "kernelspec": {
   "display_name": "Python 3",
   "language": "python",
   "name": "python3"
  },
  "language_info": {
   "codemirror_mode": {
    "name": "ipython",
    "version": 3
   },
   "file_extension": ".py",
   "mimetype": "text/x-python",
   "name": "python",
   "nbconvert_exporter": "python",
   "pygments_lexer": "ipython3",
   "version": "3.11.3"
  }
 },
 "nbformat": 4,
 "nbformat_minor": 5
}
